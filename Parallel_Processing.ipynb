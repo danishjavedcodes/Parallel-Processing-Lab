{
  "nbformat": 4,
  "nbformat_minor": 0,
  "metadata": {
    "colab": {
      "provenance": [],
      "gpuType": "T4"
    },
    "kernelspec": {
      "name": "python3",
      "display_name": "Python 3"
    },
    "language_info": {
      "name": "python"
    },
    "accelerator": "GPU"
  },
  "cells": [
    {
      "cell_type": "markdown",
      "source": [
        "Shared Bank Account Simulation"
      ],
      "metadata": {
        "id": "TG-AzAw_VEcz"
      }
    },
    {
      "cell_type": "code",
      "execution_count": null,
      "metadata": {
        "colab": {
          "base_uri": "https://localhost:8080/"
        },
        "id": "_f1L3RXWTtTj",
        "outputId": "043e6aa5-e69b-4cd0-8fb3-8278cbab51d5"
      },
      "outputs": [
        {
          "output_type": "stream",
          "name": "stdout",
          "text": [
            "Writing l4_t1.c\n"
          ]
        }
      ],
      "source": [
        "%%writefile l4_t1.c\n",
        "\n",
        "#include <stdio.h>\n",
        "#include <stdlib.h>\n",
        "#include <pthread.h>\n",
        "#include <time.h>\n",
        "\n",
        "#define INITIAL_BALANCE 1000\n",
        "#define TRANSACTIONS_PER_THREAD 5\n",
        "#define MAX_AMOUNT 100\n",
        "\n",
        "// Shared bank account balance\n",
        "int account_balance = INITIAL_BALANCE;\n",
        "\n",
        "// Mutex for synchronizing access to the account balance\n",
        "pthread_mutex_t mutex;\n",
        "\n",
        "void* perform_transactions(void* thread_id) {\n",
        "    int id = *((int*)thread_id);\n",
        "    free(thread_id); // Free the allocated memory for thread_id\n",
        "\n",
        "    for (int i = 0; i < TRANSACTIONS_PER_THREAD; i++) {\n",
        "        // Randomly choose to deposit or withdraw\n",
        "        int amount = rand() % MAX_AMOUNT + 1; // Amount between 1 and 100\n",
        "        int action = rand() % 2; // 0 for deposit, 1 for withdraw\n",
        "\n",
        "        pthread_mutex_lock(&mutex); // Lock the mutex\n",
        "\n",
        "        if (action == 0) { // Deposit\n",
        "            account_balance += amount;\n",
        "            printf(\"Thread %d: Deposited %d. New balance: %d\\n\", id, amount, account_balance);\n",
        "        } else { // Withdraw\n",
        "            if (account_balance >= amount) {\n",
        "                account_balance -= amount;\n",
        "                printf(\"Thread %d: Withdrew %d. New balance: %d\\n\", id, amount, account_balance);\n",
        "            } else {\n",
        "                printf(\"Thread %d: Attempted to withdraw %d but insufficient funds. Balance remains: %d\\n\", id, amount, account_balance);\n",
        "            }\n",
        "        }\n",
        "\n",
        "        pthread_mutex_unlock(&mutex); // Unlock the mutex\n",
        "    }\n",
        "\n",
        "    return NULL;\n",
        "}\n",
        "\n",
        "int main() {\n",
        "    srand(time(NULL)); // Seed the random number generator\n",
        "\n",
        "    pthread_t threads[4];\n",
        "    pthread_mutex_init(&mutex, NULL); // Initialize the mutex\n",
        "\n",
        "    // Create and start threads\n",
        "    for (int i = 0; i < 4; i++) {\n",
        "        int* thread_id = malloc(sizeof(int)); // Allocate memory for thread ID\n",
        "        *thread_id = i + 1; // Assign thread ID (1 to 4)\n",
        "        pthread_create(&threads[i], NULL, perform_transactions, thread_id);\n",
        "    }\n",
        "\n",
        "    // Wait for all threads to finish\n",
        "    for (int i = 0; i < 4; i++) {\n",
        "        pthread_join(threads[i], NULL);\n",
        "    }\n",
        "\n",
        "    // Print final account balance\n",
        "    printf(\"Final account balance: %d\\n\", account_balance);\n",
        "\n",
        "    pthread_mutex_destroy(&mutex); // Destroy the mutex\n",
        "\n",
        "    return 0;\n",
        "}\n"
      ]
    },
    {
      "cell_type": "code",
      "source": [
        "!gcc l4_t1.c"
      ],
      "metadata": {
        "id": "nXG703TSUnd4"
      },
      "execution_count": null,
      "outputs": []
    },
    {
      "cell_type": "code",
      "source": [
        "!./a.out"
      ],
      "metadata": {
        "colab": {
          "base_uri": "https://localhost:8080/"
        },
        "id": "m-1f0FEsUtIn",
        "outputId": "2044a095-46b9-45fe-8045-09617070ae7a"
      },
      "execution_count": null,
      "outputs": [
        {
          "output_type": "stream",
          "name": "stdout",
          "text": [
            "Thread 2: Withdrew 4. New balance: 996\n",
            "Thread 2: Deposited 11. New balance: 1007\n",
            "Thread 2: Deposited 15. New balance: 1022\n",
            "Thread 2: Deposited 43. New balance: 1065\n",
            "Thread 2: Deposited 74. New balance: 1139\n",
            "Thread 1: Deposited 20. New balance: 1159\n",
            "Thread 1: Withdrew 60. New balance: 1099\n",
            "Thread 1: Withdrew 3. New balance: 1096\n",
            "Thread 1: Deposited 78. New balance: 1174\n",
            "Thread 1: Withdrew 32. New balance: 1142\n",
            "Thread 3: Withdrew 93. New balance: 1049\n",
            "Thread 3: Deposited 37. New balance: 1086\n",
            "Thread 3: Deposited 37. New balance: 1123\n",
            "Thread 3: Deposited 8. New balance: 1131\n",
            "Thread 3: Withdrew 54. New balance: 1077\n",
            "Thread 4: Deposited 64. New balance: 1141\n",
            "Thread 4: Deposited 75. New balance: 1216\n",
            "Thread 4: Deposited 51. New balance: 1267\n",
            "Thread 4: Deposited 23. New balance: 1290\n",
            "Thread 4: Deposited 94. New balance: 1384\n",
            "Final account balance: 1384\n"
          ]
        }
      ]
    },
    {
      "cell_type": "markdown",
      "source": [
        "Racing Game Simulation"
      ],
      "metadata": {
        "id": "DYK4ZUV2VKJl"
      }
    },
    {
      "cell_type": "code",
      "source": [
        "%%writefile l4_t2.c\n",
        "\n",
        "#include <stdio.h>\n",
        "#include <stdlib.h>\n",
        "#include <pthread.h>\n",
        "#include <unistd.h>\n",
        "\n",
        "#define NUM_CARS 4\n",
        "#define NUM_CHECKPOINTS 3\n",
        "\n",
        "// Barrier structure\n",
        "typedef struct {\n",
        "    pthread_mutex_t mutex;\n",
        "    pthread_cond_t cond;\n",
        "    int count;\n",
        "    int total;\n",
        "} Barrier;\n",
        "\n",
        "// Global barrier variable\n",
        "Barrier barrier;\n",
        "\n",
        "// Initialize the barrier\n",
        "void barrier_init(Barrier* barrier, int total) {\n",
        "    pthread_mutex_init(&barrier->mutex, NULL);\n",
        "    pthread_cond_init(&barrier->cond, NULL);\n",
        "    barrier->count = 0;\n",
        "    barrier->total = total;\n",
        "}\n",
        "\n",
        "// Wait at the barrier\n",
        "void barrier_wait(Barrier* barrier) {\n",
        "    pthread_mutex_lock(&barrier->mutex);\n",
        "\n",
        "    barrier->count++;\n",
        "\n",
        "    if (barrier->count == barrier->total) {\n",
        "        // Reset the count and signal all waiting threads\n",
        "        barrier->count = 0;\n",
        "        pthread_cond_broadcast(&barrier->cond);\n",
        "    } else {\n",
        "        // Wait until all cars reach the checkpoint\n",
        "        pthread_cond_wait(&barrier->cond, &barrier->mutex);\n",
        "    }\n",
        "\n",
        "    pthread_mutex_unlock(&barrier->mutex);\n",
        "}\n",
        "\n",
        "// Car thread function\n",
        "void* car_race(void* car_id) {\n",
        "    int id = *((int*)car_id);\n",
        "    free(car_id); // Free allocated memory for car_id\n",
        "\n",
        "    for (int checkpoint = 1; checkpoint <= NUM_CHECKPOINTS; checkpoint++) {\n",
        "        // Simulate reaching the checkpoint\n",
        "        printf(\"Car %d has reached checkpoint %d\\n\", id, checkpoint);\n",
        "\n",
        "        // Wait at the barrier for other cars\n",
        "        barrier_wait(&barrier);\n",
        "\n",
        "        // Simulate some time delay before moving to the next checkpoint\n",
        "        sleep(1);\n",
        "    }\n",
        "\n",
        "    return NULL;\n",
        "}\n",
        "\n",
        "int main() {\n",
        "    pthread_t cars[NUM_CARS];\n",
        "\n",
        "    // Initialize the barrier for NUM_CARS\n",
        "    barrier_init(&barrier, NUM_CARS);\n",
        "\n",
        "    // Create and start car threads\n",
        "    for (int i = 0; i < NUM_CARS; i++) {\n",
        "        int* car_id = malloc(sizeof(int)); // Allocate memory for car ID\n",
        "        *car_id = i + 1; // Assign car ID (1 to 4)\n",
        "        pthread_create(&cars[i], NULL, car_race, car_id);\n",
        "    }\n",
        "\n",
        "    // Wait for all car threads to finish\n",
        "    for (int i = 0; i < NUM_CARS; i++) {\n",
        "        pthread_join(cars[i], NULL);\n",
        "    }\n",
        "\n",
        "    // Clean up resources\n",
        "    pthread_mutex_destroy(&barrier.mutex);\n",
        "    pthread_cond_destroy(&barrier.cond);\n",
        "\n",
        "    return 0;\n",
        "}\n"
      ],
      "metadata": {
        "colab": {
          "base_uri": "https://localhost:8080/"
        },
        "id": "375X6l0lUvKS",
        "outputId": "19ba3b4a-a171-4d6c-b95e-1d5f4d242405"
      },
      "execution_count": null,
      "outputs": [
        {
          "output_type": "stream",
          "name": "stdout",
          "text": [
            "Overwriting l4_t2.c\n"
          ]
        }
      ]
    },
    {
      "cell_type": "code",
      "source": [
        "!gcc l4_t2.c"
      ],
      "metadata": {
        "id": "HKoStadoVciS"
      },
      "execution_count": null,
      "outputs": []
    },
    {
      "cell_type": "code",
      "source": [
        "!./a.out"
      ],
      "metadata": {
        "colab": {
          "base_uri": "https://localhost:8080/"
        },
        "id": "lms5NZmiVfRX",
        "outputId": "87def19b-76a6-458f-90d4-2270a47f2bf8"
      },
      "execution_count": null,
      "outputs": [
        {
          "output_type": "stream",
          "name": "stdout",
          "text": [
            "Car 3 has reached checkpoint 1\n",
            "Car 2 has reached checkpoint 1\n",
            "Car 4 has reached checkpoint 1\n",
            "Car 1 has reached checkpoint 1\n",
            "Car 4 has reached checkpoint 2\n",
            "Car 2 has reached checkpoint 2\n",
            "Car 1 has reached checkpoint 2\n",
            "Car 3 has reached checkpoint 2\n",
            "Car 4 has reached checkpoint 3\n",
            "Car 2 has reached checkpoint 3\n",
            "Car 1 has reached checkpoint 3\n",
            "Car 3 has reached checkpoint 3\n"
          ]
        }
      ]
    },
    {
      "cell_type": "markdown",
      "source": [
        "Matrix Multiplication"
      ],
      "metadata": {
        "id": "4B7H-p7yVzzo"
      }
    },
    {
      "cell_type": "code",
      "source": [
        "%%writefile l4_t3.c\n",
        "\n",
        "#include <stdio.h>\n",
        "#include <stdlib.h>\n",
        "#include <pthread.h>\n",
        "#include <time.h>\n",
        "\n",
        "#define SIZE 4 // Size of the matrices\n",
        "#define NUM_THREADS 4 // Number of threads\n",
        "\n",
        "// Matrices\n",
        "int A[SIZE][SIZE];\n",
        "int B[SIZE][SIZE];\n",
        "int C[SIZE][SIZE];\n",
        "\n",
        "// Mutex for protecting access to the result matrix C\n",
        "pthread_mutex_t mutex;\n",
        "\n",
        "// Barrier structure\n",
        "typedef struct {\n",
        "    pthread_mutex_t mutex;\n",
        "    pthread_cond_t cond;\n",
        "    int count;\n",
        "    int total;\n",
        "} Barrier;\n",
        "\n",
        "Barrier barrier;\n",
        "\n",
        "// Initialize the barrier\n",
        "void barrier_init(Barrier* barrier, int total) {\n",
        "    pthread_mutex_init(&barrier->mutex, NULL);\n",
        "    pthread_cond_init(&barrier->cond, NULL);\n",
        "    barrier->count = 0;\n",
        "    barrier->total = total;\n",
        "}\n",
        "\n",
        "// Wait at the barrier\n",
        "void barrier_wait(Barrier* barrier) {\n",
        "    pthread_mutex_lock(&barrier->mutex);\n",
        "\n",
        "    barrier->count++;\n",
        "\n",
        "    if (barrier->count == barrier->total) {\n",
        "        // Reset the count and signal all waiting threads\n",
        "        barrier->count = 0;\n",
        "        pthread_cond_broadcast(&barrier->cond);\n",
        "    } else {\n",
        "        // Wait until all threads reach the barrier\n",
        "        pthread_cond_wait(&barrier->cond, &barrier->mutex);\n",
        "    }\n",
        "\n",
        "    pthread_mutex_unlock(&barrier->mutex);\n",
        "}\n",
        "\n",
        "// Function to multiply a row of A with B and store in C\n",
        "void* multiply_row(void* arg) {\n",
        "    int row = *((int*)arg);\n",
        "\n",
        "    for (int j = 0; j < SIZE; j++) {\n",
        "        C[row][j] = 0; // Initialize C[row][j]\n",
        "        for (int k = 0; k < SIZE; k++) {\n",
        "            C[row][j] += A[row][k] * B[k][j];\n",
        "        }\n",
        "    }\n",
        "\n",
        "    // Synchronize at the end of row calculation\n",
        "    barrier_wait(&barrier);\n",
        "\n",
        "    return NULL;\n",
        "}\n",
        "\n",
        "// Function to print a matrix\n",
        "void print_matrix(int matrix[SIZE][SIZE]) {\n",
        "    for (int i = 0; i < SIZE; i++) {\n",
        "        for (int j = 0; j < SIZE; j++) {\n",
        "            printf(\"%d \", matrix[i][j]);\n",
        "        }\n",
        "        printf(\"\\n\");\n",
        "    }\n",
        "}\n",
        "\n",
        "int main() {\n",
        "    srand(time(NULL)); // Seed for random number generation\n",
        "\n",
        "    // Generate random matrices A and B\n",
        "    for (int i = 0; i < SIZE; i++) {\n",
        "        for (int j = 0; j < SIZE; j++) {\n",
        "            A[i][j] = rand() % 10; // Random values between 0 and 9\n",
        "            B[i][j] = rand() % 10; // Random values between 0 and 9\n",
        "        }\n",
        "    }\n",
        "\n",
        "    // Print matrices A and B\n",
        "    printf(\"Matrix A:\\n\");\n",
        "    print_matrix(A);\n",
        "\n",
        "    printf(\"Matrix B:\\n\");\n",
        "    print_matrix(B);\n",
        "\n",
        "    // Initialize the barrier for NUM_THREADS\n",
        "    barrier_init(&barrier, NUM_THREADS);\n",
        "\n",
        "    pthread_t threads[NUM_THREADS];\n",
        "\n",
        "    // Create threads to multiply rows\n",
        "    for (int i = 0; i < NUM_THREADS; i++) {\n",
        "        int* row_id = malloc(sizeof(int)); // Allocate memory for row index\n",
        "        *row_id = i; // Assign row index (0 to 3)\n",
        "        pthread_create(&threads[i], NULL, multiply_row, row_id);\n",
        "    }\n",
        "\n",
        "    // Wait for all threads to finish\n",
        "    for (int i = 0; i < NUM_THREADS; i++) {\n",
        "        pthread_join(threads[i], NULL);\n",
        "    }\n",
        "\n",
        "    // Print the result matrix C\n",
        "    printf(\"Result Matrix C:\\n\");\n",
        "    print_matrix(C);\n",
        "\n",
        "    // Clean up resources\n",
        "    pthread_mutex_destroy(&mutex);\n",
        "    pthread_mutex_destroy(&barrier.mutex);\n",
        "    pthread_cond_destroy(&barrier.cond);\n",
        "\n",
        "    return 0;\n",
        "}\n"
      ],
      "metadata": {
        "colab": {
          "base_uri": "https://localhost:8080/"
        },
        "id": "RtRIZxbaVruX",
        "outputId": "8682b659-ad01-4f78-ad72-a05a27bb9be3"
      },
      "execution_count": null,
      "outputs": [
        {
          "output_type": "stream",
          "name": "stdout",
          "text": [
            "Writing l4_t3.c\n"
          ]
        }
      ]
    },
    {
      "cell_type": "code",
      "source": [
        "!gcc l4_t3.c"
      ],
      "metadata": {
        "id": "1BxGT_oIWEVo"
      },
      "execution_count": null,
      "outputs": []
    },
    {
      "cell_type": "code",
      "source": [
        "!./a.out"
      ],
      "metadata": {
        "colab": {
          "base_uri": "https://localhost:8080/"
        },
        "id": "muomtjeyWHNN",
        "outputId": "92fb5206-7dea-4950-dab4-29a0c2d47cd8"
      },
      "execution_count": null,
      "outputs": [
        {
          "output_type": "stream",
          "name": "stdout",
          "text": [
            "Matrix A:\n",
            "5 5 7 1 \n",
            "4 6 5 3 \n",
            "2 7 5 1 \n",
            "6 8 4 9 \n",
            "Matrix B:\n",
            "1 4 6 2 \n",
            "1 1 4 8 \n",
            "1 3 1 7 \n",
            "0 9 7 1 \n",
            "Result Matrix C:\n",
            "17 55 64 100 \n",
            "15 64 74 94 \n",
            "14 39 52 96 \n",
            "18 125 135 113 \n"
          ]
        }
      ]
    },
    {
      "cell_type": "markdown",
      "source": [
        "Producer-Consumer Problem"
      ],
      "metadata": {
        "id": "rfaRIyvtaZTT"
      }
    },
    {
      "cell_type": "code",
      "source": [
        "%%writefile l5t1.c\n",
        "\n",
        "#include <stdio.h>\n",
        "#include <stdlib.h>\n",
        "#include <pthread.h>\n",
        "#include <unistd.h>\n",
        "\n",
        "#define BUFFER_SIZE 1  // Size of the buffer (1 for simplicity)\n",
        "\n",
        "int buffer;  // Shared buffer\n",
        "int produced = 0;  // Flag to indicate if an item is produced\n",
        "pthread_mutex_t mutex;  // Mutex for synchronizing access to the buffer\n",
        "pthread_cond_t cond_var;  // Condition variable for signaling\n",
        "\n",
        "// Producer function\n",
        "void* producer(void* arg) {\n",
        "    while (1) {\n",
        "        int num = rand() % 100;  // Produce a random number\n",
        "        pthread_mutex_lock(&mutex);  // Lock the mutex\n",
        "        buffer = num;  // Place the produced item in the buffer\n",
        "        produced = 1;  // Set flag to indicate an item is produced\n",
        "        printf(\"Producer: Produced data: %d\\n\", num);\n",
        "        pthread_cond_signal(&cond_var);  // Signal the consumer\n",
        "        pthread_mutex_unlock(&mutex);  // Unlock the mutex\n",
        "        sleep(rand() % 2 + 1);  // Sleep for a random time (1-2 seconds)\n",
        "    }\n",
        "}\n",
        "\n",
        "// Consumer function\n",
        "void* consumer(void* arg) {\n",
        "    while (1) {\n",
        "        pthread_mutex_lock(&mutex);  // Lock the mutex\n",
        "        while (produced == 0) {  // Wait until there is something to consume\n",
        "            printf(\"Consumer: Waiting for the producer to produce...\\n\");\n",
        "            pthread_cond_wait(&cond_var, &mutex);  // Wait for signal from producer\n",
        "        }\n",
        "        printf(\"Consumer: Consumed data: %d\\n\", buffer);\n",
        "        produced = 0;  // Reset flag after consuming\n",
        "        pthread_mutex_unlock(&mutex);  // Unlock the mutex\n",
        "        sleep(rand() % 2 + 1);  // Sleep for a random time (1-2 seconds)\n",
        "    }\n",
        "}\n",
        "\n",
        "int main() {\n",
        "    pthread_t prod_thread, cons_thread;\n",
        "\n",
        "    // Initialize mutex and condition variable\n",
        "    pthread_mutex_init(&mutex, NULL);\n",
        "    pthread_cond_init(&cond_var, NULL);\n",
        "\n",
        "    // Create producer and consumer threads\n",
        "    pthread_create(&prod_thread, NULL, producer, NULL);\n",
        "    pthread_create(&cons_thread, NULL, consumer, NULL);\n",
        "\n",
        "    // Join threads (not necessary in this infinite loop example)\n",
        "    pthread_join(prod_thread, NULL);\n",
        "    pthread_join(cons_thread, NULL);\n",
        "\n",
        "    // Clean up (not reached in this example)\n",
        "    pthread_mutex_destroy(&mutex);\n",
        "    pthread_cond_destroy(&cond_var);\n",
        "\n",
        "    return 0;\n",
        "}\n"
      ],
      "metadata": {
        "id": "9DHYxNHJWJly",
        "colab": {
          "base_uri": "https://localhost:8080/"
        },
        "outputId": "c8fa3dc6-dcf1-4b83-b73c-29091d9e89b4"
      },
      "execution_count": null,
      "outputs": [
        {
          "output_type": "stream",
          "name": "stdout",
          "text": [
            "Overwriting l5t1.c\n"
          ]
        }
      ]
    },
    {
      "cell_type": "code",
      "source": [
        "!gcc l5t1.c"
      ],
      "metadata": {
        "id": "SSn4gqPrahb1"
      },
      "execution_count": null,
      "outputs": []
    },
    {
      "cell_type": "code",
      "source": [
        "!./a.out"
      ],
      "metadata": {
        "colab": {
          "base_uri": "https://localhost:8080/"
        },
        "id": "MZqvNNXgajPd",
        "outputId": "1e95abc4-1da2-4378-8589-e31b5230a1f7"
      },
      "execution_count": null,
      "outputs": [
        {
          "output_type": "stream",
          "name": "stdout",
          "text": [
            "Consumer: Waiting for the producer to produce...\n",
            "Producer: Produced data: 83\n",
            "Consumer: Consumed data: 83\n",
            "Producer: Produced data: 15\n",
            "Consumer: Consumed data: 15\n",
            "Producer: Produced data: 86\n",
            "Consumer: Consumed data: 86\n",
            "Producer: Produced data: 49\n",
            "Producer: Produced data: 27\n",
            "Consumer: Consumed data: 27\n",
            "Producer: Produced data: 63\n",
            "Producer: Produced data: 40\n",
            "Consumer: Consumed data: 40\n",
            "Producer: Produced data: 36\n",
            "Consumer: Consumed data: 36\n",
            "Consumer: Waiting for the producer to produce...\n",
            "Producer: Produced data: 67\n",
            "Consumer: Consumed data: 67\n",
            "Consumer: Waiting for the producer to produce...\n",
            "Producer: Produced data: 30\n",
            "Consumer: Consumed data: 30\n",
            "Producer: Produced data: 67\n",
            "Consumer: Consumed data: 67\n",
            "Producer: Produced data: 2\n",
            "Consumer: Consumed data: 2\n",
            "Producer: Produced data: 69\n",
            "Consumer: Consumed data: 69\n",
            "Producer: Produced data: 56\n",
            "Consumer: Consumed data: 56\n",
            "Producer: Produced data: 29\n",
            "Consumer: Consumed data: 29\n",
            "Producer: Produced data: 19\n",
            "Consumer: Consumed data: 19\n",
            "Producer: Produced data: 98\n",
            "Consumer: Consumed data: 98\n",
            "Producer: Produced data: 70\n",
            "^C\n"
          ]
        }
      ]
    },
    {
      "cell_type": "markdown",
      "source": [
        "Traffic Light Simulation"
      ],
      "metadata": {
        "id": "7-qU1E5Na_8T"
      }
    },
    {
      "cell_type": "code",
      "source": [
        "%%writefile l5t2.c\n",
        "\n",
        "#include <stdio.h>\n",
        "#include <stdlib.h>\n",
        "#include <pthread.h>\n",
        "#include <unistd.h>\n",
        "\n",
        "// Mutex and condition variables\n",
        "pthread_mutex_t mutex = PTHREAD_MUTEX_INITIALIZER;\n",
        "pthread_cond_t road_condition = PTHREAD_COND_INITIALIZER;\n",
        "\n",
        "// Traffic light state\n",
        "enum RoadState {\n",
        "    ROAD_A_GREEN,\n",
        "    ROAD_B_GREEN\n",
        "};\n",
        "volatile enum RoadState current_state = ROAD_A_GREEN;\n",
        "volatile int stop_simulation = 0;\n",
        "\n",
        "// Road A thread function\n",
        "void* road_a_thread(void* arg) {\n",
        "    while (!stop_simulation) {\n",
        "        pthread_mutex_lock(&mutex);\n",
        "\n",
        "        // Wait if not green for Road A\n",
        "        while (current_state != ROAD_A_GREEN) {\n",
        "            printf(\"Road A: Red light. Waiting...\\n\");\n",
        "            pthread_cond_wait(&road_condition, &mutex);\n",
        "        }\n",
        "\n",
        "        // Road A is green\n",
        "        printf(\"Road A: Green light! Cars passing...\\n\");\n",
        "        sleep(2); // Simulate cars passing\n",
        "\n",
        "        pthread_mutex_unlock(&mutex);\n",
        "        sleep(1);\n",
        "    }\n",
        "    return NULL;\n",
        "}\n",
        "\n",
        "// Road B thread function\n",
        "void* road_b_thread(void* arg) {\n",
        "    while (!stop_simulation) {\n",
        "        pthread_mutex_lock(&mutex);\n",
        "\n",
        "        // Wait if not green for Road B\n",
        "        while (current_state != ROAD_B_GREEN) {\n",
        "            printf(\"Road B: Red light. Waiting...\\n\");\n",
        "            pthread_cond_wait(&road_condition, &mutex);\n",
        "        }\n",
        "\n",
        "        // Road B is green\n",
        "        printf(\"Road B: Green light! Cars passing...\\n\");\n",
        "        sleep(2); // Simulate cars passing\n",
        "\n",
        "        pthread_mutex_unlock(&mutex);\n",
        "        sleep(1);\n",
        "    }\n",
        "    return NULL;\n",
        "}\n",
        "\n",
        "// Traffic light controller thread function\n",
        "void* traffic_light_controller(void* arg) {\n",
        "    int cycle_count = 0;\n",
        "\n",
        "    while (cycle_count < 4) {  // Simulate 4 cycles\n",
        "        // Road A green\n",
        "        pthread_mutex_lock(&mutex);\n",
        "        current_state = ROAD_A_GREEN;\n",
        "        printf(\"Traffic Light: Green for Road A, Red for Road B\\n\");\n",
        "        pthread_cond_broadcast(&road_condition);\n",
        "        pthread_mutex_unlock(&mutex);\n",
        "\n",
        "        sleep(5);  // Green light duration\n",
        "\n",
        "        // Road B green\n",
        "        pthread_mutex_lock(&mutex);\n",
        "        current_state = ROAD_B_GREEN;\n",
        "        printf(\"Traffic Light: Green for Road B, Red for Road A\\n\");\n",
        "        pthread_cond_broadcast(&road_condition);\n",
        "        pthread_mutex_unlock(&mutex);\n",
        "\n",
        "        sleep(5);  // Green light duration\n",
        "\n",
        "        cycle_count++;\n",
        "    }\n",
        "\n",
        "    // Stop simulation\n",
        "    stop_simulation = 1;\n",
        "    pthread_cond_broadcast(&road_condition);\n",
        "\n",
        "    return NULL;\n",
        "}\n",
        "\n",
        "int main() {\n",
        "    pthread_t road_a, road_b, traffic_controller;\n",
        "\n",
        "    // Create threads\n",
        "    pthread_create(&road_a, NULL, road_a_thread, NULL);\n",
        "    pthread_create(&road_b, NULL, road_b_thread, NULL);\n",
        "    pthread_create(&traffic_controller, NULL, traffic_light_controller, NULL);\n",
        "\n",
        "    // Wait for threads to complete\n",
        "    pthread_join(road_a, NULL);\n",
        "    pthread_join(road_b, NULL);\n",
        "    pthread_join(traffic_controller, NULL);\n",
        "\n",
        "    // Clean up\n",
        "    pthread_mutex_destroy(&mutex);\n",
        "    pthread_cond_destroy(&road_condition);\n",
        "\n",
        "    return 0;\n",
        "}"
      ],
      "metadata": {
        "colab": {
          "base_uri": "https://localhost:8080/"
        },
        "id": "J-QTZAM_auPB",
        "outputId": "de872034-bb12-430b-871d-d1e65fdbfc98"
      },
      "execution_count": null,
      "outputs": [
        {
          "output_type": "stream",
          "name": "stdout",
          "text": [
            "Overwriting l5t2.c\n"
          ]
        }
      ]
    },
    {
      "cell_type": "code",
      "source": [
        "!gcc l5t2.c"
      ],
      "metadata": {
        "id": "3HXv-ZVFbFMT"
      },
      "execution_count": null,
      "outputs": []
    },
    {
      "cell_type": "code",
      "source": [
        "!./a.out"
      ],
      "metadata": {
        "colab": {
          "base_uri": "https://localhost:8080/"
        },
        "id": "wZZozkhTbGko",
        "outputId": "c588b62d-5c3f-4c7b-9ea4-70ca239d9e21"
      },
      "execution_count": null,
      "outputs": [
        {
          "output_type": "stream",
          "name": "stdout",
          "text": [
            "Road A: Green light! Cars passing...\n",
            "Road B: Red light. Waiting...\n",
            "Traffic Light: Green for Road A, Red for Road B\n",
            "Road B: Red light. Waiting...\n",
            "Road A: Green light! Cars passing...\n",
            "Road A: Green light! Cars passing...\n",
            "Traffic Light: Green for Road B, Red for Road A\n",
            "Road B: Green light! Cars passing...\n",
            "^C\n"
          ]
        }
      ]
    },
    {
      "cell_type": "markdown",
      "source": [
        " Parallel Array Sum using OpenMP|"
      ],
      "metadata": {
        "id": "qSx5l7CYe4UB"
      }
    },
    {
      "cell_type": "code",
      "source": [
        "%%writefile l5t3.c\n",
        "\n",
        "#include <stdio.h>\n",
        "#include <stdlib.h>\n",
        "#include <time.h>\n",
        "#include <omp.h>\n",
        "\n",
        "#define ARRAY_SIZE 100\n",
        "#define NUM_THREADS 4\n",
        "\n",
        "void initialize_array(int arr[], int size) {\n",
        "    // Seed the random number generator\n",
        "    srand(time(NULL));\n",
        "\n",
        "    // Fill array with random values between 1 and 1000\n",
        "    for (int i = 0; i < size; i++) {\n",
        "        arr[i] = rand() % 1000 + 1;\n",
        "    }\n",
        "}\n",
        "\n",
        "int sequential_sum(int arr[], int size) {\n",
        "    int sum = 0;\n",
        "    for (int i = 0; i < size; i++) {\n",
        "        sum += arr[i];\n",
        "    }\n",
        "    return sum;\n",
        "}\n",
        "\n",
        "int parallel_sum(int arr[], int size) {\n",
        "    int sum = 0;\n",
        "\n",
        "    // Set the number of threads\n",
        "    omp_set_num_threads(NUM_THREADS);\n",
        "\n",
        "    // Parallel reduction to calculate sum\n",
        "    #pragma omp parallel for reduction(+:sum)\n",
        "    for (int i = 0; i < size; i++) {\n",
        "        sum += arr[i];\n",
        "    }\n",
        "\n",
        "    return sum;\n",
        "}\n",
        "\n",
        "void print_array(int arr[], int size) {\n",
        "    printf(\"Array elements:\\n\");\n",
        "    for (int i = 0; i < size; i++) {\n",
        "        printf(\"%d \", arr[i]);\n",
        "        if ((i + 1) % 10 == 0) {\n",
        "            printf(\"\\n\");\n",
        "        }\n",
        "    }\n",
        "    printf(\"\\n\");\n",
        "}\n",
        "\n",
        "int main() {\n",
        "    int arr[ARRAY_SIZE];\n",
        "    int sequential_result, parallel_result;\n",
        "    double start_time, end_time;\n",
        "\n",
        "    // Initialize the array with random values\n",
        "    initialize_array(arr, ARRAY_SIZE);\n",
        "\n",
        "    // Print array elements\n",
        "    print_array(arr, ARRAY_SIZE);\n",
        "\n",
        "    // Sequential Sum\n",
        "    start_time = omp_get_wtime();\n",
        "    sequential_result = sequential_sum(arr, ARRAY_SIZE);\n",
        "    end_time = omp_get_wtime();\n",
        "    printf(\"Sequential Sum: %d\\n\", sequential_result);\n",
        "    printf(\"Sequential Time: %f seconds\\n\", end_time - start_time);\n",
        "\n",
        "    // Parallel Sum\n",
        "    start_time = omp_get_wtime();\n",
        "    parallel_result = parallel_sum(arr, ARRAY_SIZE);\n",
        "    end_time = omp_get_wtime();\n",
        "    printf(\"Parallel Sum: %d\\n\", parallel_result);\n",
        "    printf(\"Parallel Time: %f seconds\\n\", end_time - start_time);\n",
        "\n",
        "    // Verify results\n",
        "    if (sequential_result == parallel_result) {\n",
        "        printf(\"Results match! Parallel computation successful.\\n\");\n",
        "    } else {\n",
        "        printf(\"Error: Results do not match!\\n\");\n",
        "    }\n",
        "\n",
        "    return 0;\n",
        "}"
      ],
      "metadata": {
        "colab": {
          "base_uri": "https://localhost:8080/"
        },
        "id": "gHE8GOdzbIRo",
        "outputId": "905ac966-2219-4065-ca85-154019cc57f2"
      },
      "execution_count": null,
      "outputs": [
        {
          "output_type": "stream",
          "name": "stdout",
          "text": [
            "Writing l5t3.c\n"
          ]
        }
      ]
    },
    {
      "cell_type": "code",
      "source": [
        "!gcc -fopenmp l5t3.c"
      ],
      "metadata": {
        "id": "S7BVYGcOe9Ir"
      },
      "execution_count": null,
      "outputs": []
    },
    {
      "cell_type": "code",
      "source": [
        "!./a.out"
      ],
      "metadata": {
        "colab": {
          "base_uri": "https://localhost:8080/"
        },
        "id": "JEPtRpjRfB1m",
        "outputId": "71ccac3b-6d2a-4c00-bfda-a40b3da73ef8"
      },
      "execution_count": null,
      "outputs": [
        {
          "output_type": "stream",
          "name": "stdout",
          "text": [
            "Array elements:\n",
            "176 336 325 534 26 268 51 489 78 393 \n",
            "611 91 572 877 595 342 788 306 277 65 \n",
            "960 275 548 421 865 618 474 23 758 643 \n",
            "831 934 330 155 467 356 774 869 196 852 \n",
            "262 806 294 833 34 888 175 822 545 803 \n",
            "238 505 429 138 277 646 107 750 668 865 \n",
            "744 850 798 426 356 616 781 129 484 976 \n",
            "332 745 133 978 578 167 865 104 340 762 \n",
            "258 577 266 687 66 542 332 173 643 351 \n",
            "37 739 200 186 164 907 801 944 387 284 \n",
            "\n",
            "Sequential Sum: 48342\n",
            "Sequential Time: 0.000004 seconds\n",
            "Parallel Sum: 48342\n",
            "Parallel Time: 0.000992 seconds\n",
            "Results match! Parallel computation successful.\n"
          ]
        }
      ]
    },
    {
      "cell_type": "markdown",
      "source": [
        "Using Sections for Text Analysis"
      ],
      "metadata": {
        "id": "HXDV04LIjPyL"
      }
    },
    {
      "cell_type": "code",
      "source": [
        "%%writefile l6t1.c\n",
        "\n",
        "#include <stdio.h>\n",
        "#include <string.h>\n",
        "#include <ctype.h>\n",
        "#include <omp.h>\n",
        "\n",
        "// Function to count words in the text\n",
        "int count_words(const char* text) {\n",
        "    int word_count = 0;\n",
        "    int in_word = 0;\n",
        "\n",
        "    while (*text) {\n",
        "        if (isspace(*text)) {\n",
        "            in_word = 0;\n",
        "        } else if (!in_word) {\n",
        "            in_word = 1;\n",
        "            word_count++;\n",
        "        }\n",
        "        text++;\n",
        "    }\n",
        "\n",
        "    return word_count;\n",
        "}\n",
        "\n",
        "// Function to count sentences in the text\n",
        "int count_sentences(const char* text) {\n",
        "    int sentence_count = 0;\n",
        "\n",
        "    while (*text) {\n",
        "        if (*text == '.' || *text == '!' || *text == '?') {\n",
        "            sentence_count++;\n",
        "        }\n",
        "        text++;\n",
        "    }\n",
        "\n",
        "    return sentence_count;\n",
        "}\n",
        "\n",
        "// Function to count paragraphs in the text\n",
        "int count_paragraphs(const char* text) {\n",
        "    int paragraph_count = 1;\n",
        "    int newline_count = 0;\n",
        "\n",
        "    while (*text) {\n",
        "        if (*text == '\\n') {\n",
        "            newline_count++;\n",
        "            if (newline_count >= 2) {\n",
        "                paragraph_count++;\n",
        "                newline_count = 0;\n",
        "            }\n",
        "        } else if (!isspace(*text)) {\n",
        "            newline_count = 0;\n",
        "        }\n",
        "        text++;\n",
        "    }\n",
        "\n",
        "    return paragraph_count;\n",
        "}\n",
        "\n",
        "int main() {\n",
        "    // Sample text for analysis\n",
        "    const char* text = \"This is a sentence. This is another one! Here is a new paragraph.\\n\\nThis is a new line.\";\n",
        "\n",
        "    // Variables to store analysis results\n",
        "    int word_count = 0;\n",
        "    int sentence_count = 0;\n",
        "    int paragraph_count = 0;\n",
        "\n",
        "    // Use OpenMP sections to perform concurrent text analysis\n",
        "    #pragma omp parallel sections\n",
        "    {\n",
        "        #pragma omp section\n",
        "        {\n",
        "            // Count words\n",
        "            word_count = count_words(text);\n",
        "            printf(\"Thread %d computing Word Count\\n\", omp_get_thread_num());\n",
        "        }\n",
        "\n",
        "        #pragma omp section\n",
        "        {\n",
        "            // Count sentences\n",
        "            sentence_count = count_sentences(text);\n",
        "            printf(\"Thread %d computing Sentence Count\\n\", omp_get_thread_num());\n",
        "        }\n",
        "\n",
        "        #pragma omp section\n",
        "        {\n",
        "            // Count paragraphs\n",
        "            paragraph_count = count_paragraphs(text);\n",
        "            printf(\"Thread %d computing Paragraph Count\\n\", omp_get_thread_num());\n",
        "        }\n",
        "    }\n",
        "\n",
        "    // Print final analysis results\n",
        "    printf(\"\\nText Analysis Results:\\n\");\n",
        "    printf(\"Text: \\\"%s\\\"\\n\", text);\n",
        "    printf(\"Word Count: %d\\n\", word_count);\n",
        "    printf(\"Sentence Count: %d\\n\", sentence_count);\n",
        "    printf(\"Paragraph Count: %d\\n\", paragraph_count);\n",
        "\n",
        "    return 0;\n",
        "}"
      ],
      "metadata": {
        "colab": {
          "base_uri": "https://localhost:8080/"
        },
        "id": "PWpnObHZfD-v",
        "outputId": "9481270c-d9a5-4e5e-d7ea-f037f0bb8711"
      },
      "execution_count": null,
      "outputs": [
        {
          "output_type": "stream",
          "name": "stdout",
          "text": [
            "Writing l6t1.c\n"
          ]
        }
      ]
    },
    {
      "cell_type": "code",
      "source": [
        "!gcc -fopenmp l6t1.c"
      ],
      "metadata": {
        "id": "FCFFHIfDflgn"
      },
      "execution_count": null,
      "outputs": []
    },
    {
      "cell_type": "code",
      "source": [
        "!./a.out"
      ],
      "metadata": {
        "colab": {
          "base_uri": "https://localhost:8080/"
        },
        "id": "J3QmkWMSfokt",
        "outputId": "24cf356a-f403-49f3-a166-06e74f46522d"
      },
      "execution_count": null,
      "outputs": [
        {
          "output_type": "stream",
          "name": "stdout",
          "text": [
            "Thread 1 computing Sentence Count\n",
            "Thread 1 computing Paragraph Count\n",
            "Thread 0 computing Word Count\n",
            "\n",
            "Text Analysis Results:\n",
            "Text: \"This is a sentence. This is another one! Here is a new paragraph.\n",
            "\n",
            "This is a new line.\"\n",
            "Word Count: 18\n",
            "Sentence Count: 4\n",
            "Paragraph Count: 2\n"
          ]
        }
      ]
    },
    {
      "cell_type": "code",
      "source": [
        "%%writefile l6t1_1.c\n",
        "\n",
        "#include <mpi.h>\n",
        "#include <stdio.h>\n",
        "#include <stdlib.h>\n",
        "#include <string.h>\n",
        "#include <ctype.h>\n",
        "\n",
        "#define MAX_TEXT_LENGTH 1000\n",
        "\n",
        "// Robust word counting function\n",
        "int count_words(const char* text) {\n",
        "    int word_count = 0;\n",
        "    int in_word = 0;\n",
        "\n",
        "    while (*text) {\n",
        "        // Skip leading whitespace\n",
        "        if (isspace(*text)) {\n",
        "            in_word = 0;\n",
        "        }\n",
        "        // Check for start of a word\n",
        "        else if (!in_word) {\n",
        "            word_count++;\n",
        "            in_word = 1;\n",
        "        }\n",
        "        text++;\n",
        "    }\n",
        "\n",
        "    return word_count;\n",
        "}\n",
        "\n",
        "// Robust sentence counting function\n",
        "int count_sentences(const char* text) {\n",
        "    int sentence_count = 0;\n",
        "    int i = 0;\n",
        "\n",
        "    while (text[i]) {\n",
        "        // Check for sentence-ending punctuation\n",
        "        if (text[i] == '.' || text[i] == '!' || text[i] == '?') {\n",
        "            // Ensure it's a valid sentence end\n",
        "            if (i > 0 &&\n",
        "                (isalnum(text[i-1]) ||\n",
        "                 (i > 1 && isalnum(text[i-2]) && ispunct(text[i-1])))) {\n",
        "                sentence_count++;\n",
        "            }\n",
        "        }\n",
        "        i++;\n",
        "    }\n",
        "\n",
        "    return sentence_count;\n",
        "}\n",
        "\n",
        "// Robust paragraph counting function\n",
        "int count_paragraphs(const char* text) {\n",
        "    int paragraph_count = 1;\n",
        "    int newline_count = 0;\n",
        "    int i = 0;\n",
        "\n",
        "    while (text[i]) {\n",
        "        if (text[i] == '\\n') {\n",
        "            newline_count++;\n",
        "\n",
        "            // Two or more consecutive newlines indicate a new paragraph\n",
        "            if (newline_count >= 2) {\n",
        "                paragraph_count++;\n",
        "                newline_count = 0;\n",
        "            }\n",
        "        } else if (!isspace(text[i])) {\n",
        "            // Reset newline count when non-whitespace character is found\n",
        "            newline_count = 0;\n",
        "        }\n",
        "        i++;\n",
        "    }\n",
        "\n",
        "    return paragraph_count;\n",
        "}\n",
        "\n",
        "int main(int argc, char** argv) {\n",
        "    // Initialize MPI\n",
        "    MPI_Init(&argc, &argv);\n",
        "\n",
        "    // Get process rank and total number of processes\n",
        "    int rank, size;\n",
        "    MPI_Comm_rank(MPI_COMM_WORLD, &rank);\n",
        "    MPI_Comm_size(MPI_COMM_WORLD, &size);\n",
        "\n",
        "    // Sample text\n",
        "    char full_text[MAX_TEXT_LENGTH] =\n",
        "        \"This is a sentence. This is another one! Here is a new paragraph.\\n\\nThis is a new line.\";\n",
        "\n",
        "    // Ensure null-termination\n",
        "    full_text[MAX_TEXT_LENGTH - 1] = '\\0';\n",
        "\n",
        "    // Results variables\n",
        "    int word_count = 0;\n",
        "    int sentence_count = 0;\n",
        "    int paragraph_count = 0;\n",
        "\n",
        "    // Perform analysis on root process\n",
        "    if (rank == 0) {\n",
        "        // Detailed debugging print\n",
        "        printf(\"Full Text: [%s]\\n\", full_text);\n",
        "\n",
        "        // Perform counts\n",
        "        word_count = count_words(full_text);\n",
        "        sentence_count = count_sentences(full_text);\n",
        "        paragraph_count = count_paragraphs(full_text);\n",
        "    }\n",
        "\n",
        "    // Print results in root process\n",
        "    if (rank == 0) {\n",
        "        printf(\"Text Analysis Results:\\n\");\n",
        "        printf(\"Text: \\\"%s\\\"\\n\", full_text);\n",
        "        printf(\"Word Count: %d\\n\", word_count);\n",
        "        printf(\"Sentence Count: %d\\n\", sentence_count);\n",
        "        printf(\"Paragraph Count: %d\\n\", paragraph_count);\n",
        "    }\n",
        "\n",
        "    // Finalize MPI\n",
        "    MPI_Finalize();\n",
        "\n",
        "    return 0;\n",
        "}"
      ],
      "metadata": {
        "colab": {
          "base_uri": "https://localhost:8080/"
        },
        "id": "jBPE2ZihfqDZ",
        "outputId": "415310d5-7915-46dd-93e0-2d47cca55136"
      },
      "execution_count": null,
      "outputs": [
        {
          "output_type": "stream",
          "name": "stdout",
          "text": [
            "Overwriting l6t1_1.c\n"
          ]
        }
      ]
    },
    {
      "cell_type": "code",
      "source": [
        "!mpicc -o t1 l6t1_1.c"
      ],
      "metadata": {
        "id": "VrSUo10XgGpK"
      },
      "execution_count": null,
      "outputs": []
    },
    {
      "cell_type": "code",
      "source": [
        "!mpirun --allow-run-as-root t1"
      ],
      "metadata": {
        "colab": {
          "base_uri": "https://localhost:8080/"
        },
        "id": "gz8sNWAugMIA",
        "outputId": "8bff0eba-d889-44db-dd2f-a8e04a83c2ce"
      },
      "execution_count": null,
      "outputs": [
        {
          "output_type": "stream",
          "name": "stdout",
          "text": [
            "Full Text: [This is a sentence. This is another one! Here is a new paragraph.\n",
            "\n",
            "This is a new line.]\n",
            "Text Analysis Results:\n",
            "Text: \"This is a sentence. This is another one! Here is a new paragraph.\n",
            "\n",
            "This is a new line.\"\n",
            "Word Count: 18\n",
            "Sentence Count: 4\n",
            "Paragraph Count: 2\n"
          ]
        }
      ]
    },
    {
      "cell_type": "markdown",
      "source": [
        "Calculations with OpenMP Implement a program that processes an array of integers to compute the sum, product, and maximum value concurrently."
      ],
      "metadata": {
        "id": "0ZyxohOijZHA"
      }
    },
    {
      "cell_type": "code",
      "source": [
        "%%writefile l6t2.c\n",
        "\n",
        "#include <stdio.h>\n",
        "#include <stdlib.h>\n",
        "#include <omp.h>\n",
        "#include <limits.h>\n",
        "\n",
        "#define ARRAY_SIZE 5\n",
        "#define NUM_THREADS 4\n",
        "\n",
        "// Function to compute sum using tasks\n",
        "int compute_sum(int arr[], int start, int end) {\n",
        "    int local_sum = 0;\n",
        "\n",
        "    // Base case: single element\n",
        "    if (start == end) {\n",
        "        return arr[start];\n",
        "    }\n",
        "\n",
        "    // Recursive task division\n",
        "    #pragma omp task shared(local_sum) firstprivate(start, end)\n",
        "    {\n",
        "        int mid = (start + end) / 2;\n",
        "        int left_sum = compute_sum(arr, start, mid);\n",
        "        int right_sum = compute_sum(arr, mid + 1, end);\n",
        "\n",
        "        #pragma omp critical\n",
        "        {\n",
        "            local_sum = left_sum + right_sum;\n",
        "        }\n",
        "    }\n",
        "    #pragma omp taskwait\n",
        "\n",
        "    return local_sum;\n",
        "}\n",
        "\n",
        "// Function to compute product using tasks\n",
        "long long compute_product(int arr[], int start, int end) {\n",
        "    long long local_product = 1;\n",
        "\n",
        "    // Base case: single element\n",
        "    if (start == end) {\n",
        "        return arr[start];\n",
        "    }\n",
        "\n",
        "    // Recursive task division\n",
        "    #pragma omp task shared(local_product) firstprivate(start, end)\n",
        "    {\n",
        "        int mid = (start + end) / 2;\n",
        "        long long left_product = compute_product(arr, start, mid);\n",
        "        long long right_product = compute_product(arr, mid + 1, end);\n",
        "\n",
        "        #pragma omp critical\n",
        "        {\n",
        "            local_product = left_product * right_product;\n",
        "        }\n",
        "    }\n",
        "    #pragma omp taskwait\n",
        "\n",
        "    return local_product;\n",
        "}\n",
        "\n",
        "// Function to find maximum value\n",
        "int find_maximum(int arr[], int size) {\n",
        "    int max_val = INT_MIN;\n",
        "\n",
        "    #pragma omp parallel for reduction(max:max_val)\n",
        "    for (int i = 0; i < size; i++) {\n",
        "        if (arr[i] > max_val) {\n",
        "            max_val = arr[i];\n",
        "        }\n",
        "    }\n",
        "\n",
        "    return max_val;\n",
        "}\n",
        "\n",
        "int main() {\n",
        "    // Initialize array\n",
        "    int arr[ARRAY_SIZE] = {1, 2, 3, 4, 5};\n",
        "\n",
        "    // Variables to store results\n",
        "    int sum = 0;\n",
        "    long long product = 1;\n",
        "    int maximum = 0;\n",
        "\n",
        "    // Set number of threads\n",
        "    omp_set_num_threads(NUM_THREADS);\n",
        "\n",
        "    // Print input array\n",
        "    printf(\"Array: [\");\n",
        "    for (int i = 0; i < ARRAY_SIZE; i++) {\n",
        "        printf(\"%d%s\", arr[i], (i < ARRAY_SIZE - 1) ? \", \" : \"\");\n",
        "    }\n",
        "    printf(\"]\\n\");\n",
        "\n",
        "    // Use OpenMP sections to manage computations\n",
        "    #pragma omp parallel\n",
        "    {\n",
        "        // Sum computation using tasks\n",
        "        #pragma omp sections\n",
        "        {\n",
        "            #pragma omp section\n",
        "            {\n",
        "                #pragma omp task\n",
        "                {\n",
        "                    sum = compute_sum(arr, 0, ARRAY_SIZE - 1);\n",
        "                }\n",
        "            }\n",
        "\n",
        "            // Product computation using tasks\n",
        "            #pragma omp section\n",
        "            {\n",
        "                #pragma omp task\n",
        "                {\n",
        "                    product = compute_product(arr, 0, ARRAY_SIZE - 1);\n",
        "                }\n",
        "            }\n",
        "\n",
        "            // Maximum value computation\n",
        "            #pragma omp section\n",
        "            {\n",
        "                maximum = find_maximum(arr, ARRAY_SIZE);\n",
        "            }\n",
        "        }\n",
        "\n",
        "        // Wait for all tasks to complete\n",
        "        #pragma omp taskwait\n",
        "    }\n",
        "\n",
        "    // Print results\n",
        "    printf(\"Sum: %d\\n\", sum);\n",
        "    printf(\"Product: %lld\\n\", product);\n",
        "    printf(\"Maximum: %d\\n\", maximum);\n",
        "\n",
        "    return 0;\n",
        "}"
      ],
      "metadata": {
        "colab": {
          "base_uri": "https://localhost:8080/"
        },
        "id": "xPq3I2Y6gTO5",
        "outputId": "94e916f9-172e-4815-dfc2-f278a13ab3cc"
      },
      "execution_count": null,
      "outputs": [
        {
          "output_type": "stream",
          "name": "stdout",
          "text": [
            "Writing l6t2.c\n"
          ]
        }
      ]
    },
    {
      "cell_type": "code",
      "source": [
        "!gcc -fopenmp l6t2.c\n",
        "!./a.out"
      ],
      "metadata": {
        "colab": {
          "base_uri": "https://localhost:8080/"
        },
        "id": "4d9sxd89jjEE",
        "outputId": "b5bc1c37-b07f-42b7-d7ba-37ea46d3f779"
      },
      "execution_count": null,
      "outputs": [
        {
          "output_type": "stream",
          "name": "stdout",
          "text": [
            "Array: [1, 2, 3, 4, 5]\n",
            "Sum: 15\n",
            "Product: 120\n",
            "Maximum: 5\n"
          ]
        }
      ]
    },
    {
      "cell_type": "markdown",
      "source": [
        "Fibonacci Series Calculation"
      ],
      "metadata": {
        "id": "vVrUQ5UPjzV4"
      }
    },
    {
      "cell_type": "code",
      "source": [
        "%%writefile l6t3.c\n",
        "\n",
        "#include <stdio.h>\n",
        "#include <stdlib.h>\n",
        "#include <omp.h>\n",
        "\n",
        "// Recursive Fibonacci function with OpenMP tasks\n",
        "int fibonacci(int n) {\n",
        "    // Base cases\n",
        "    if (n <= 1) {\n",
        "        return n;\n",
        "    }\n",
        "\n",
        "    int left, right;\n",
        "\n",
        "    // Create tasks for left and right branches\n",
        "    #pragma omp task shared(left) firstprivate(n)\n",
        "    {\n",
        "        left = fibonacci(n - 1);\n",
        "    }\n",
        "\n",
        "    #pragma omp task shared(right) firstprivate(n)\n",
        "    {\n",
        "        right = fibonacci(n - 2);\n",
        "    }\n",
        "\n",
        "    // Wait for both tasks to complete\n",
        "    #pragma omp taskwait\n",
        "\n",
        "    // Return sum of left and right branches\n",
        "    return left + right;\n",
        "}\n",
        "\n",
        "// Function to generate and print Fibonacci series\n",
        "void generate_fibonacci_series(int n) {\n",
        "    // Validate input\n",
        "    if (n <= 0) {\n",
        "        printf(\"Please enter a positive integer.\\n\");\n",
        "        return;\n",
        "    }\n",
        "\n",
        "    // Array to store Fibonacci numbers\n",
        "    int* series = (int*)malloc((n + 1) * sizeof(int));\n",
        "\n",
        "    // Set number of threads\n",
        "    omp_set_num_threads(4);\n",
        "\n",
        "    // Parallel region for Fibonacci calculation\n",
        "    #pragma omp parallel\n",
        "    {\n",
        "        #pragma omp single\n",
        "        {\n",
        "            // Generate Fibonacci series\n",
        "            for (int i = 0; i < n; i++) {\n",
        "                #pragma omp task shared(series) firstprivate(i)\n",
        "                {\n",
        "                    series[i] = fibonacci(i);\n",
        "                }\n",
        "            }\n",
        "\n",
        "            // Wait for all tasks to complete\n",
        "            #pragma omp taskwait\n",
        "        }\n",
        "    }\n",
        "\n",
        "    // Print Fibonacci series\n",
        "    printf(\"Fibonacci series up to %d:\\n\", n);\n",
        "    for (int i = 0; i < n; i++) {\n",
        "        printf(\"%d%s\", series[i], (i < n - 1) ? \", \" : \"\\n\");\n",
        "    }\n",
        "\n",
        "    // Free allocated memory\n",
        "    free(series);\n",
        "}\n",
        "\n",
        "// Input validation function\n",
        "int get_positive_integer() {\n",
        "    int n;\n",
        "\n",
        "    while (1) {\n",
        "        printf(\"Enter a positive integer: \");\n",
        "\n",
        "        // Check if input is valid integer\n",
        "        if (scanf(\"%d\", &n) != 1) {\n",
        "            // Clear input buffer\n",
        "            while (getchar() != '\\n');\n",
        "            printf(\"Invalid input. Please enter a positive integer.\\n\");\n",
        "            continue;\n",
        "        }\n",
        "\n",
        "        // Check if input is positive\n",
        "        if (n > 0) {\n",
        "            return n;\n",
        "        }\n",
        "\n",
        "        printf(\"Please enter a positive integer.\\n\");\n",
        "    }\n",
        "}\n",
        "\n",
        "int main() {\n",
        "    // Get user input\n",
        "    int n = get_positive_integer();\n",
        "\n",
        "    // Generate and print Fibonacci series\n",
        "    generate_fibonacci_series(n);\n",
        "\n",
        "    return 0;\n",
        "}"
      ],
      "metadata": {
        "colab": {
          "base_uri": "https://localhost:8080/"
        },
        "id": "hJ_eI6PAjsl1",
        "outputId": "4287858a-ac3c-4018-8875-1938975923da"
      },
      "execution_count": null,
      "outputs": [
        {
          "output_type": "stream",
          "name": "stdout",
          "text": [
            "Writing l6t3.c\n"
          ]
        }
      ]
    },
    {
      "cell_type": "code",
      "source": [
        "!gcc -fopenmp l6t3.c\n",
        "\n",
        "!./a.out"
      ],
      "metadata": {
        "colab": {
          "base_uri": "https://localhost:8080/"
        },
        "id": "RHfQ4tm_j_Ja",
        "outputId": "2cb0a5c6-e26a-440f-998e-a7d804acc75c"
      },
      "execution_count": null,
      "outputs": [
        {
          "output_type": "stream",
          "name": "stdout",
          "text": [
            "Enter a positive integer: 10\n",
            "Fibonacci series up to 10:\n",
            "0, 1, 1, 2, 3, 5, 8, 13, 21, 34\n"
          ]
        }
      ]
    },
    {
      "cell_type": "markdown",
      "source": [
        "Linked List Traversal"
      ],
      "metadata": {
        "id": "aivmoTedkajt"
      }
    },
    {
      "cell_type": "code",
      "source": [
        "%%writefile l6h.c\n",
        "\n",
        "\n",
        "\n",
        "#include <stdio.h>\n",
        "#include <stdlib.h>\n",
        "#include <omp.h>\n",
        "\n",
        "// Linked List Node Structure\n",
        "typedef struct Node {\n",
        "    int data;\n",
        "    struct Node* next;\n",
        "} Node;\n",
        "\n",
        "// Function to create a new node\n",
        "Node* create_node(int value) {\n",
        "    Node* new_node = (Node*)malloc(sizeof(Node));\n",
        "    if (new_node == NULL) {\n",
        "        printf(\"Memory allocation failed!\\n\");\n",
        "        exit(1);\n",
        "    }\n",
        "    new_node->data = value;\n",
        "    new_node->next = NULL;\n",
        "    return new_node;\n",
        "}\n",
        "\n",
        "// Function to insert a node at the end of the list\n",
        "void insert_node(Node** head, int value) {\n",
        "    Node* new_node = create_node(value);\n",
        "\n",
        "    if (*head == NULL) {\n",
        "        *head = new_node;\n",
        "        return;\n",
        "    }\n",
        "\n",
        "    Node* current = *head;\n",
        "    while (current->next != NULL) {\n",
        "        current = current->next;\n",
        "    }\n",
        "    current->next = new_node;\n",
        "}\n",
        "\n",
        "// Function to print a single node (task function)\n",
        "void print_node(Node* node, int* order) {\n",
        "    #pragma omp critical\n",
        "    {\n",
        "        printf(\"Node value: %d (Order: %d)\\n\", node->data, (*order)++);\n",
        "    }\n",
        "}\n",
        "\n",
        "// Parallel traversal function using OpenMP tasks\n",
        "void parallel_traverse(Node* head) {\n",
        "    // Order tracking for consistent output\n",
        "    int order = 1;\n",
        "\n",
        "    // Set number of threads\n",
        "    omp_set_num_threads(4);\n",
        "\n",
        "    // Parallel region\n",
        "    #pragma omp parallel\n",
        "    {\n",
        "        #pragma omp single\n",
        "        {\n",
        "            Node* current = head;\n",
        "\n",
        "            // Traverse the list\n",
        "            while (current != NULL) {\n",
        "                // Create a task for each node\n",
        "                #pragma omp task firstprivate(current)\n",
        "                {\n",
        "                    print_node(current, &order);\n",
        "                }\n",
        "\n",
        "                current = current->next;\n",
        "            }\n",
        "\n",
        "            // Wait for all tasks to complete\n",
        "            #pragma omp taskwait\n",
        "        }\n",
        "    }\n",
        "}\n",
        "\n",
        "// Function to free linked list memory\n",
        "void free_list(Node* head) {\n",
        "    Node* current = head;\n",
        "    Node* next;\n",
        "\n",
        "    while (current != NULL) {\n",
        "        next = current->next;\n",
        "        free(current);\n",
        "        current = next;\n",
        "    }\n",
        "}\n",
        "\n",
        "// Function to create a sample linked list\n",
        "Node* create_sample_list() {\n",
        "    Node* head = NULL;\n",
        "\n",
        "    // Insert sample values\n",
        "    insert_node(&head, 10);\n",
        "    insert_node(&head, 20);\n",
        "    insert_node(&head, 30);\n",
        "    insert_node(&head, 40);\n",
        "    insert_node(&head, 50);\n",
        "\n",
        "    return head;\n",
        "}\n",
        "\n",
        "// Main function\n",
        "int main() {\n",
        "    // Create sample linked list\n",
        "    Node* head = create_sample_list();\n",
        "\n",
        "    // Print header\n",
        "    printf(\"Parallel Linked List Traversal:\\n\");\n",
        "\n",
        "    // Perform parallel traversal\n",
        "    parallel_traverse(head);\n",
        "\n",
        "    // Free allocated memory\n",
        "    free_list(head);\n",
        "\n",
        "    return 0;\n",
        "}"
      ],
      "metadata": {
        "colab": {
          "base_uri": "https://localhost:8080/"
        },
        "id": "ONYAcD0BkFXY",
        "outputId": "eaf71169-2e47-449c-e9ed-3c9ff17f8589"
      },
      "execution_count": null,
      "outputs": [
        {
          "output_type": "stream",
          "name": "stdout",
          "text": [
            "Writing l6h.c\n"
          ]
        }
      ]
    },
    {
      "cell_type": "code",
      "source": [
        "!gcc -fopenmp l6h.c\n",
        "\n",
        "!./a.out"
      ],
      "metadata": {
        "colab": {
          "base_uri": "https://localhost:8080/"
        },
        "id": "Z381FPA_khJ3",
        "outputId": "8003fa40-d89c-4c6c-d98d-597d9669e2fc"
      },
      "execution_count": null,
      "outputs": [
        {
          "output_type": "stream",
          "name": "stdout",
          "text": [
            "Parallel Linked List Traversal:\n",
            "Node value: 50 (Order: 1)\n",
            "Node value: 40 (Order: 2)\n",
            "Node value: 30 (Order: 3)\n",
            "Node value: 20 (Order: 4)\n",
            "Node value: 10 (Order: 5)\n"
          ]
        }
      ]
    },
    {
      "cell_type": "markdown",
      "source": [
        "Transpose of the matrix"
      ],
      "metadata": {
        "id": "GIg8Fwkkl6hg"
      }
    },
    {
      "cell_type": "code",
      "source": [
        "%%writefile l6.cu\n",
        "\n",
        "#include <iostream>\n",
        "#include <cuda_runtime.h>\n",
        "#include <cstdlib>\n",
        "#include <cassert>\n",
        "\n",
        "#define TILE_SIZE 32 // Tile size for shared memory optimization\n",
        "\n",
        "// CUDA kernel for transposing a square matrix\n",
        "__global__ void transposeMatrix(float *input, float *output, int n) {\n",
        "    // Shared memory with padding to avoid bank conflicts\n",
        "    __shared__ float tile[TILE_SIZE][TILE_SIZE + 1];\n",
        "\n",
        "    // Calculate global coordinates\n",
        "    int x = blockIdx.x * TILE_SIZE + threadIdx.x;\n",
        "    int y = blockIdx.y * TILE_SIZE + threadIdx.y;\n",
        "\n",
        "    // Load input matrix to shared memory\n",
        "    if (x < n && y < n) {\n",
        "        tile[threadIdx.y][threadIdx.x] = input[y * n + x];\n",
        "    }\n",
        "\n",
        "    // Synchronize threads to ensure all data is loaded\n",
        "    __syncthreads();\n",
        "\n",
        "    // Recalculate coordinates for transposed output\n",
        "    x = blockIdx.y * TILE_SIZE + threadIdx.x;\n",
        "    y = blockIdx.x * TILE_SIZE + threadIdx.y;\n",
        "\n",
        "    // Write transposed data from shared memory\n",
        "    if (x < n && y < n) {\n",
        "        output[y * n + x] = tile[threadIdx.x][threadIdx.y];\n",
        "    }\n",
        "}\n",
        "\n",
        "// CPU function for matrix transposition\n",
        "void transposeMatrixCPU(float *input, float *output, int n) {\n",
        "    for (int i = 0; i < n; ++i) {\n",
        "        for (int j = 0; j < n; ++j) {\n",
        "            output[j * n + i] = input[i * n + j];\n",
        "        }\n",
        "    }\n",
        "}\n",
        "\n",
        "// Initialize matrix with random values within a range\n",
        "void initializeMatrix(float *matrix, int n, int minValue, int maxValue) {\n",
        "    for (int i = 0; i < n * n; ++i) {\n",
        "        matrix[i] = minValue + rand() % (maxValue - minValue + 1);\n",
        "    }\n",
        "}\n",
        "\n",
        "// Print a square matrix to the console\n",
        "void printMatrix(float *matrix, int n) {\n",
        "    for (int i = 0; i < n; ++i) {\n",
        "        for (int j = 0; j < n; ++j) {\n",
        "            std::cout << matrix[i * n + j] << \" \";\n",
        "        }\n",
        "        std::cout << std::endl;\n",
        "    }\n",
        "}\n",
        "\n",
        "// Main function to demonstrate matrix transposition\n",
        "int main() {\n",
        "    // Matrix size\n",
        "    const int n = 1024;\n",
        "\n",
        "    // Allocate host memory\n",
        "    float *h_input = new float[n * n];\n",
        "    float *h_output_cuda = new float[n * n];\n",
        "    float *h_output_cpu = new float[n * n];\n",
        "\n",
        "    // Initialize input matrix with random values\n",
        "    srand(time(NULL));\n",
        "    initializeMatrix(h_input, n, 1, 100);\n",
        "\n",
        "    // Allocate device memory\n",
        "    float *d_input, *d_output;\n",
        "    cudaMalloc(&d_input, n * n * sizeof(float));\n",
        "    cudaMalloc(&d_output, n * n * sizeof(float));\n",
        "\n",
        "    // Copy input matrix to device\n",
        "    cudaMemcpy(d_input, h_input, n * n * sizeof(float), cudaMemcpyHostToDevice);\n",
        "\n",
        "    // Configure grid and block dimensions\n",
        "    dim3 blockDim(TILE_SIZE, TILE_SIZE);\n",
        "    dim3 gridDim(\n",
        "        (n + blockDim.x - 1) / blockDim.x,\n",
        "        (n + blockDim.y - 1) / blockDim.y\n",
        "    );\n",
        "\n",
        "    // Launch CUDA kernel for matrix transposition\n",
        "    transposeMatrix<<<gridDim, blockDim>>>(d_input, d_output, n);\n",
        "\n",
        "    // Copy transposed matrix back to host\n",
        "    cudaMemcpy(h_output_cuda, d_output, n * n * sizeof(float), cudaMemcpyDeviceToHost);\n",
        "\n",
        "    // Compute CPU reference transposition\n",
        "    transposeMatrixCPU(h_input, h_output_cpu, n);\n",
        "\n",
        "    // Verify results\n",
        "    bool success = true;\n",
        "    for (int i = 0; i < n * n; ++i) {\n",
        "        if (std::abs(h_output_cuda[i] - h_output_cpu[i]) > 1e-5) {\n",
        "            success = false;\n",
        "            break;\n",
        "        }\n",
        "    }\n",
        "\n",
        "    // Print verification result\n",
        "    std::cout << \"Matrix Transposition \"\n",
        "              << (success ? \"Successful\" : \"Failed\")\n",
        "              << std::endl;\n",
        "\n",
        "    // Free host memory\n",
        "    delete[] h_input;\n",
        "    delete[] h_output_cuda;\n",
        "    delete[] h_output_cpu;\n",
        "\n",
        "    // Free device memory\n",
        "    cudaFree(d_input);\n",
        "    cudaFree(d_output);\n",
        "\n",
        "    return 0;\n",
        "}"
      ],
      "metadata": {
        "colab": {
          "base_uri": "https://localhost:8080/"
        },
        "id": "X3y-ASC8krad",
        "outputId": "aaaf9899-47c5-435f-910a-8c6bc4fb84e6"
      },
      "execution_count": null,
      "outputs": [
        {
          "output_type": "stream",
          "name": "stdout",
          "text": [
            "Overwriting l6.cu\n"
          ]
        }
      ]
    },
    {
      "cell_type": "code",
      "source": [
        "!nvcc -o l l6.cu\n",
        "!./l"
      ],
      "metadata": {
        "colab": {
          "base_uri": "https://localhost:8080/"
        },
        "id": "7qFen9MfllVT",
        "outputId": "de6ae7c9-9ff1-425c-dd93-80845e789370"
      },
      "execution_count": null,
      "outputs": [
        {
          "output_type": "stream",
          "name": "stdout",
          "text": [
            "Matrix Transposition Successful\n"
          ]
        }
      ]
    },
    {
      "cell_type": "code",
      "source": [
        "%%writefile l81.cu\n",
        "\n",
        "#include <cuda_runtime.h>\n",
        "#include <iostream>\n",
        "#include <iomanip>\n",
        "\n",
        "// Kernel for adding a scalar to matrix\n",
        "__global__ void addScalarKernel(float *input, float *output, float scalar, int rows, int cols) {\n",
        "    int row = blockIdx.y * blockDim.y + threadIdx.y;\n",
        "    int col = blockIdx.x * blockDim.x + threadIdx.x;\n",
        "\n",
        "    if (row < rows && col < cols) {\n",
        "        int index = row * cols + col;\n",
        "        output[index] = input[index] + scalar;\n",
        "    }\n",
        "}\n",
        "\n",
        "// Kernel for multiplying matrix by a scalar\n",
        "__global__ void multiplyScalarKernel(float *input, float *output, float scalar, int rows, int cols) {\n",
        "    int row = blockIdx.y * blockDim.y + threadIdx.y;\n",
        "    int col = blockIdx.x * blockDim.x + threadIdx.x;\n",
        "\n",
        "    if (row < rows && col < cols) {\n",
        "        int index = row * cols + col;\n",
        "        output[index] = input[index] * scalar;\n",
        "    }\n",
        "}\n",
        "\n",
        "// Kernel for squaring matrix elements\n",
        "__global__ void squareMatrixKernel(float *input, float *output, int rows, int cols) {\n",
        "    int row = blockIdx.y * blockDim.y + threadIdx.y;\n",
        "    int col = blockIdx.x * blockDim.x + threadIdx.x;\n",
        "\n",
        "    if (row < rows && col < cols) {\n",
        "        int index = row * cols + col;\n",
        "        output[index] = input[index] * input[index];\n",
        "    }\n",
        "}\n",
        "\n",
        "// Function to print matrix\n",
        "void printMatrix(float *matrix, int rows, int cols) {\n",
        "    std::cout << \"[\";\n",
        "    for (int i = 0; i < rows; i++) {\n",
        "        if (i > 0) std::cout << \" \";\n",
        "        std::cout << \"[\";\n",
        "        for (int j = 0; j < cols; j++) {\n",
        "            std::cout << matrix[i * cols + j];\n",
        "            if (j < cols - 1) std::cout << \", \";\n",
        "        }\n",
        "        std::cout << \"]\";\n",
        "        if (i < rows - 1) std::cout << \",\" << std::endl;\n",
        "    }\n",
        "    std::cout << \"]\" << std::endl;\n",
        "}\n",
        "\n",
        "int main() {\n",
        "    // Matrix dimensions\n",
        "    const int rows = 3;\n",
        "    const int cols = 3;\n",
        "    const int size = rows * cols * sizeof(float);\n",
        "\n",
        "    // Host matrices\n",
        "    float h_input[rows * cols] = {\n",
        "        1, 2, 3,\n",
        "        4, 5, 6,\n",
        "        7, 8, 9\n",
        "    };\n",
        "    float h_output[rows * cols];\n",
        "\n",
        "    // Device matrices\n",
        "    float *d_input, *d_output;\n",
        "\n",
        "    // Allocate device memory\n",
        "    cudaMalloc(&d_input, size);\n",
        "    cudaMalloc(&d_output, size);\n",
        "\n",
        "    // Copy input matrix to device\n",
        "    cudaMemcpy(d_input, h_input, size, cudaMemcpyHostToDevice);\n",
        "\n",
        "    // Define grid and block dimensions\n",
        "    dim3 blockDim(3, 3);\n",
        "    dim3 gridDim(1, 1);\n",
        "\n",
        "    // Print input matrix\n",
        "    std::cout << \"Input Matrix:\" << std::endl;\n",
        "    printMatrix(h_input, rows, cols);\n",
        "    std::cout << std::endl;\n",
        "\n",
        "    // 1. Add Scalar Operation\n",
        "    float addScalar = 2.0f;\n",
        "    addScalarKernel<<<gridDim, blockDim>>>(d_input, d_output, addScalar, rows, cols);\n",
        "    cudaMemcpy(h_output, d_output, size, cudaMemcpyDeviceToHost);\n",
        "\n",
        "    std::cout << \"Added Scalar:\" << std::endl;\n",
        "    printMatrix(h_output, rows, cols);\n",
        "    std::cout << std::endl;\n",
        "\n",
        "    // 2. Multiply Scalar Operation\n",
        "    float multiplyScalar = 3.0f;\n",
        "    multiplyScalarKernel<<<gridDim, blockDim>>>(d_input, d_output, multiplyScalar, rows, cols);\n",
        "    cudaMemcpy(h_output, d_output, size, cudaMemcpyDeviceToHost);\n",
        "\n",
        "    std::cout << \"Multiplied Scalar:\" << std::endl;\n",
        "    printMatrix(h_output, rows, cols);\n",
        "    std::cout << std::endl;\n",
        "\n",
        "    // 3. Square Operation\n",
        "    squareMatrixKernel<<<gridDim, blockDim>>>(d_input, d_output, rows, cols);\n",
        "    cudaMemcpy(h_output, d_output, size, cudaMemcpyDeviceToHost);\n",
        "\n",
        "    std::cout << \"Squared:\" << std::endl;\n",
        "    printMatrix(h_output, rows, cols);\n",
        "\n",
        "    // Free device memory\n",
        "    cudaFree(d_input);\n",
        "    cudaFree(d_output);\n",
        "\n",
        "    return 0;\n",
        "}"
      ],
      "metadata": {
        "colab": {
          "base_uri": "https://localhost:8080/"
        },
        "id": "TgACPywwlrt-",
        "outputId": "d770e38b-bab1-4565-b69e-8a66ce3e5556"
      },
      "execution_count": null,
      "outputs": [
        {
          "output_type": "stream",
          "name": "stdout",
          "text": [
            "Overwriting l81.cu\n"
          ]
        }
      ]
    },
    {
      "cell_type": "code",
      "source": [
        "!nvcc l81.cu -o matrix_ops\n",
        "\n",
        "# Run the executable\n",
        "!./matrix_ops"
      ],
      "metadata": {
        "colab": {
          "base_uri": "https://localhost:8080/"
        },
        "id": "aW2Rr6AWnGgy",
        "outputId": "58f069b8-2098-484e-baf2-227767dd4a69"
      },
      "execution_count": null,
      "outputs": [
        {
          "output_type": "stream",
          "name": "stdout",
          "text": [
            "Input Matrix:\n",
            "[[1, 2, 3],\n",
            " [4, 5, 6],\n",
            " [7, 8, 9]]\n",
            "\n",
            "Added Scalar:\n",
            "[[3, 4, 5],\n",
            " [6, 7, 8],\n",
            " [9, 10, 11]]\n",
            "\n",
            "Multiplied Scalar:\n",
            "[[3, 6, 9],\n",
            " [12, 15, 18],\n",
            " [21, 24, 27]]\n",
            "\n",
            "Squared:\n",
            "[[1, 4, 9],\n",
            " [16, 25, 36],\n",
            " [49, 64, 81]]\n"
          ]
        }
      ]
    },
    {
      "cell_type": "code",
      "source": [
        "%%writefile l91.cpp\n",
        "\n",
        "#include <mpi.h>\n",
        "#include <iostream>\n",
        "\n",
        "int main(int argc, char** argv) {\n",
        "    // Initialize the MPI environment\n",
        "    MPI_Init(&argc, &argv);\n",
        "\n",
        "    // Get the number of processes\n",
        "    int total_processes;\n",
        "    MPI_Comm_size(MPI_COMM_WORLD, &total_processes);\n",
        "\n",
        "    // Get the rank of the process\n",
        "    int rank;\n",
        "    MPI_Comm_rank(MPI_COMM_WORLD, &rank);\n",
        "\n",
        "    // Print a hello world message\n",
        "    std::cout << \"Hello from process \" << rank\n",
        "              << \" of \" << total_processes << std::endl;\n",
        "\n",
        "    // Finalize the MPI environment\n",
        "    MPI_Finalize();\n",
        "\n",
        "    return 0;\n",
        "}"
      ],
      "metadata": {
        "id": "0skORg5XoPsq",
        "colab": {
          "base_uri": "https://localhost:8080/"
        },
        "outputId": "2c950d23-eb8f-42fb-abe7-bc3d4fe06533"
      },
      "execution_count": null,
      "outputs": [
        {
          "output_type": "stream",
          "name": "stdout",
          "text": [
            "Writing l91.cpp\n"
          ]
        }
      ]
    },
    {
      "cell_type": "code",
      "source": [
        "!mpicxx -o hello_world_mpi l91.cpp\n",
        "!mpirun --allow-run-as-root  --oversubscribe -np 4 ./hello_world_mpi"
      ],
      "metadata": {
        "colab": {
          "base_uri": "https://localhost:8080/"
        },
        "id": "Pbun9WyqpAZQ",
        "outputId": "53ef1e38-b46a-414b-84f6-e12c743c4064"
      },
      "execution_count": null,
      "outputs": [
        {
          "output_type": "stream",
          "name": "stdout",
          "text": [
            "Hello from process 2 of 4\n",
            "Hello from process 0 of 4\n",
            "Hello from process 3 of 4\n",
            "Hello from process 1 of 4\n"
          ]
        }
      ]
    },
    {
      "cell_type": "markdown",
      "source": [
        "Pingpong"
      ],
      "metadata": {
        "id": "9J8WjAtxqNP2"
      }
    },
    {
      "cell_type": "code",
      "source": [
        "# Comprehensive MPI Message Passing Setup\n",
        "\n",
        "# Install OpenMPI\n",
        "# !apt-get update && apt-get install -y openmpi-bin libopenmpi-dev\n",
        "\n",
        "# Create MPI source file\n",
        "%%writefile message_passing.cpp\n",
        "#include <mpi.h>\n",
        "#include <iostream>\n",
        "#include <stdexcept>\n",
        "\n",
        "int main(int argc, char** argv) {\n",
        "    try {\n",
        "        // Initialize MPI with error checking\n",
        "        int mpi_init_result = MPI_Init(&argc, &argv);\n",
        "        if (mpi_init_result != MPI_SUCCESS) {\n",
        "            throw std::runtime_error(\"MPI Initialization failed\");\n",
        "        }\n",
        "\n",
        "        // Get process information\n",
        "        int rank, total_processes;\n",
        "        MPI_Comm_rank(MPI_COMM_WORLD, &rank);\n",
        "        MPI_Comm_size(MPI_COMM_WORLD, &total_processes);\n",
        "\n",
        "        // Validate process count\n",
        "        if (total_processes != 2) {\n",
        "            throw std::runtime_error(\"This program requires exactly 2 processes\");\n",
        "        }\n",
        "\n",
        "        int number = 10;\n",
        "        const int exchange_count = 5;\n",
        "\n",
        "        // Process 0 initiates communication\n",
        "        if (rank == 0) {\n",
        "            for (int i = 0; i < exchange_count; ++i) {\n",
        "                std::cout << \"Process 0 sent number \" << number\n",
        "                          << \" to Process 1\" << std::endl;\n",
        "                MPI_Send(&number, 1, MPI_INT, 1, 0, MPI_COMM_WORLD);\n",
        "\n",
        "                MPI_Recv(&number, 1, MPI_INT, 1, 1, MPI_COMM_WORLD, MPI_STATUS_IGNORE);\n",
        "                std::cout << \"Process 0 received number \" << number << std::endl;\n",
        "            }\n",
        "        }\n",
        "        // Process 1 receives and sends back\n",
        "        else if (rank == 1) {\n",
        "            for (int i = 0; i < exchange_count; ++i) {\n",
        "                MPI_Recv(&number, 1, MPI_INT, 0, 0, MPI_COMM_WORLD, MPI_STATUS_IGNORE);\n",
        "                std::cout << \"Process 1 received number \" << number\n",
        "                          << \", incremented to \" << number + 1\n",
        "                          << \", and sent it back\" << std::endl;\n",
        "\n",
        "                ++number;\n",
        "                MPI_Send(&number, 1, MPI_INT, 0, 1, MPI_COMM_WORLD);\n",
        "            }\n",
        "        }\n",
        "\n",
        "        // Finalize MPI\n",
        "        MPI_Finalize();\n",
        "        return 0;\n",
        "    }\n",
        "    catch (const std::exception& e) {\n",
        "        std::cerr << \"Error: \" << e.what() << std::endl;\n",
        "        MPI_Finalize();\n",
        "        return 1;\n",
        "    }\n",
        "}\n",
        "\n"
      ],
      "metadata": {
        "colab": {
          "base_uri": "https://localhost:8080/"
        },
        "id": "Ylpn3vh9pEfY",
        "outputId": "b0949aaf-4a03-4b76-baff-ad66ddb31dab"
      },
      "execution_count": null,
      "outputs": [
        {
          "output_type": "stream",
          "name": "stdout",
          "text": [
            "Overwriting message_passing.cpp\n"
          ]
        }
      ]
    },
    {
      "cell_type": "code",
      "source": [
        "# Compile MPI program\n",
        "!mpicxx message_passing.cpp -o message_passing\n",
        "\n",
        "# Execution strategies\n",
        "execution_modes = [\n",
        "    \"mpirun --allow-run-as-root --oversubscribe -np 2\",\n",
        "    \"mpirun -np 2\"\n",
        "]\n",
        "\n",
        "# Try different execution configurations\n",
        "for mode in execution_modes:\n",
        "    print(f\"\\nExecuting with: {mode}\")\n",
        "    try:\n",
        "        !{mode} ./message_passing\n",
        "    except Exception as e:\n",
        "        print(f\"Execution failed: {e}\")"
      ],
      "metadata": {
        "colab": {
          "base_uri": "https://localhost:8080/"
        },
        "id": "PYPTjyN4qaGU",
        "outputId": "de6773a7-6cae-4ce5-f1a1-2b2787f63715"
      },
      "execution_count": null,
      "outputs": [
        {
          "output_type": "stream",
          "name": "stdout",
          "text": [
            "\n",
            "Executing with: mpirun --allow-run-as-root --oversubscribe -np 2\n",
            "Process 0 sent number 10 to Process 1\n",
            "Process 1 received number 10, incremented to 11, and sent it back\n",
            "Process 0 received number 11\n",
            "Process 0 sent number 11 to Process 1\n",
            "Process 1 received number 11, incremented to 12, and sent it back\n",
            "Process 0 received number 12\n",
            "Process 0 sent number 12 to Process 1\n",
            "Process 1 received number 12, incremented to 13, and sent it back\n",
            "Process 0 received number 13\n",
            "Process 0 sent number 13 to Process 1\n",
            "Process 1 received number 13, incremented to 14, and sent it back\n",
            "Process 0 received number 14\n",
            "Process 0 sent number 14 to Process 1\n",
            "Process 1 received number 14, incremented to 15, and sent it back\n",
            "Process 0 received number 15\n",
            "\n",
            "Executing with: mpirun -np 2\n",
            "--------------------------------------------------------------------------\n",
            "mpirun has detected an attempt to run as root.\n",
            "\n",
            "Running as root is *strongly* discouraged as any mistake (e.g., in\n",
            "defining TMPDIR) or bug can result in catastrophic damage to the OS\n",
            "file system, leaving your system in an unusable state.\n",
            "\n",
            "We strongly suggest that you run mpirun as a non-root user.\n",
            "\n",
            "You can override this protection by adding the --allow-run-as-root option\n",
            "to the cmd line or by setting two environment variables in the following way:\n",
            "the variable OMPI_ALLOW_RUN_AS_ROOT=1 to indicate the desire to override this\n",
            "protection, and OMPI_ALLOW_RUN_AS_ROOT_CONFIRM=1 to confirm the choice and\n",
            "add one more layer of certainty that you want to do so.\n",
            "We reiterate our advice against doing so - please proceed at your own risk.\n",
            "--------------------------------------------------------------------------\n"
          ]
        }
      ]
    },
    {
      "cell_type": "code",
      "source": [
        "# MPI Reverse Number Passing Setup and Execution\n",
        "\n",
        "# Step 1: Install OpenMPI\n",
        "# !apt-get update && apt-get install -y openmpi-bin libopenmpi-dev\n",
        "\n",
        "# Step 2: Create the MPI Reverse Number Passing source file\n",
        "%%writefile reverse_number_passing.cpp\n",
        "#include <mpi.h>\n",
        "#include <iostream>\n",
        "#include <stdexcept>\n",
        "\n",
        "int main(int argc, char** argv) {\n",
        "    try {\n",
        "        // Initialize the MPI environment\n",
        "        MPI_Init(&argc, &argv);\n",
        "\n",
        "        // Get the number of processes\n",
        "        int total_processes;\n",
        "        MPI_Comm_size(MPI_COMM_WORLD, &total_processes);\n",
        "\n",
        "        // Get the rank of the current process\n",
        "        int rank;\n",
        "        MPI_Comm_rank(MPI_COMM_WORLD, &rank);\n",
        "\n",
        "        // Initial number (set by the last process)\n",
        "        int number;\n",
        "\n",
        "        // Last process initializes the number\n",
        "        if (rank == total_processes - 1) {\n",
        "            number = 5;  // Starting number\n",
        "            std::cout << \"Process \" << rank << \": Starting number is \"\n",
        "                      << number << \", multiplied by \" << rank\n",
        "                      << \", sending \" << number * rank << std::endl;\n",
        "\n",
        "            // Multiply by rank and send to previous process\n",
        "            number *= rank;\n",
        "            MPI_Send(&number, 1, MPI_INT, rank - 1, 0, MPI_COMM_WORLD);\n",
        "        }\n",
        "        // Intermediate processes\n",
        "        else if (rank > 0 && rank < total_processes - 1) {\n",
        "            // Receive from the next process\n",
        "            MPI_Recv(&number, 1, MPI_INT, rank + 1, 0, MPI_COMM_WORLD, MPI_STATUS_IGNORE);\n",
        "\n",
        "            std::cout << \"Process \" << rank << \": Received \" << number\n",
        "                      << \", multiplied by \" << rank\n",
        "                      << \", sending \" << number * rank << std::endl;\n",
        "\n",
        "            // Multiply by rank and send to previous process\n",
        "            number *= rank;\n",
        "            MPI_Send(&number, 1, MPI_INT, rank - 1, 0, MPI_COMM_WORLD);\n",
        "        }\n",
        "        // First process (Process 0)\n",
        "        else if (rank == 0) {\n",
        "            // Receive final number from Process 1\n",
        "            MPI_Recv(&number, 1, MPI_INT, 1, 0, MPI_COMM_WORLD, MPI_STATUS_IGNORE);\n",
        "\n",
        "            std::cout << \"Process 0: Received \" << number << std::endl;\n",
        "        }\n",
        "\n",
        "        // Finalize the MPI environment\n",
        "        MPI_Finalize();\n",
        "        return 0;\n",
        "    }\n",
        "    catch (const std::exception& e) {\n",
        "        std::cerr << \"Error: \" << e.what() << std::endl;\n",
        "        MPI_Finalize();\n",
        "        return 1;\n",
        "    }\n",
        "}\n"
      ],
      "metadata": {
        "colab": {
          "base_uri": "https://localhost:8080/"
        },
        "id": "_QKFlm17qcq5",
        "outputId": "8fa99af0-8fdf-4e5c-bd0e-574d0696e446"
      },
      "execution_count": null,
      "outputs": [
        {
          "output_type": "stream",
          "name": "stdout",
          "text": [
            "Overwriting reverse_number_passing.cpp\n"
          ]
        }
      ]
    },
    {
      "cell_type": "code",
      "source": [
        "\n",
        "# Step 3: Compile the MPI program\n",
        "!mpicxx reverse_number_passing.cpp -o reverse_number_passing\n",
        "\n",
        "# Step 4: Run the MPI program with 4 processes\n",
        "!mpirun --allow-run-as-root --oversubscribe -np 4 ./reverse_number_passing"
      ],
      "metadata": {
        "id": "xEJUEueQrSsH",
        "outputId": "c90212c1-52b6-44cc-e134-14c2741b6bab",
        "colab": {
          "base_uri": "https://localhost:8080/"
        }
      },
      "execution_count": null,
      "outputs": [
        {
          "output_type": "stream",
          "name": "stdout",
          "text": [
            "Process 3: Starting number is 5, multiplied by 3, sending 15\n",
            "Process 2: Received 15, multiplied by 2, sending 30\n",
            "Process 1: Received 30, multiplied by 1, sending 30\n",
            "Process 0: Received 30\n"
          ]
        }
      ]
    },
    {
      "cell_type": "code",
      "source": [
        "%%writefile broadcast.c\n",
        "#include <mpi.h>\n",
        "#include <stdio.h>\n",
        "\n",
        "int main(int argc, char** argv) {\n",
        "    MPI_Init(&argc, &argv);\n",
        "\n",
        "    int rank;\n",
        "    int data = 0;\n",
        "\n",
        "    MPI_Comm_rank(MPI_COMM_WORLD, &rank);\n",
        "\n",
        "    if (rank == 0) {\n",
        "        data = 100; // root process sets the data\n",
        "    }\n",
        "\n",
        "    MPI_Bcast(&data, 1, MPI_INT, 0, MPI_COMM_WORLD);\n",
        "\n",
        "    printf(\"Process %d received data %d\\n\", rank, data);\n",
        "\n",
        "    MPI_Finalize();\n",
        "    return 0;\n",
        "}"
      ],
      "metadata": {
        "colab": {
          "base_uri": "https://localhost:8080/"
        },
        "id": "sQgoGiZkrtib",
        "outputId": "3dba734e-0b3b-4938-b873-d8cc7e2b39c9"
      },
      "execution_count": 73,
      "outputs": [
        {
          "output_type": "stream",
          "name": "stdout",
          "text": [
            "Writing broadcast.c\n"
          ]
        }
      ]
    },
    {
      "cell_type": "code",
      "source": [
        "!mpicc broadcast.c\n",
        "!mpirun --allow-run-as-root --oversubscribe -np 4 ./a.out"
      ],
      "metadata": {
        "id": "Zd2K-VWkrUP-",
        "colab": {
          "base_uri": "https://localhost:8080/"
        },
        "outputId": "67b585f9-862f-4e82-a4d9-acd0a8d69d86"
      },
      "execution_count": 74,
      "outputs": [
        {
          "output_type": "stream",
          "name": "stdout",
          "text": [
            "Process 0 received data 100\n",
            "Process 2 received data 100\n",
            "Process 3 received data 100\n",
            "Process 1 received data 100\n"
          ]
        }
      ]
    },
    {
      "cell_type": "code",
      "source": [
        "%%writefile gather.c\n",
        "#include <mpi.h>\n",
        "#include <stdio.h>\n",
        "\n",
        "int main(int argc, char** argv) {\n",
        "    MPI_Init(&argc, &argv);\n",
        "\n",
        "    int rank, size;\n",
        "    int send_data, recv_data[4];\n",
        "\n",
        "    MPI_Comm_rank(MPI_COMM_WORLD, &rank);\n",
        "    MPI_Comm_size(MPI_COMM_WORLD, &size);\n",
        "\n",
        "    send_data = rank + 1; // each process has a unique value\n",
        "\n",
        "    MPI_Gather(&send_data, 1, MPI_INT, recv_data, 1, MPI_INT, 0, MPI_COMM_WORLD);\n",
        "\n",
        "    if (rank == 0) {\n",
        "        printf(\"Root process gathered data: \");\n",
        "        for (int i = 0; i < size; i++) {\n",
        "            printf(\"%d \", recv_data[i]);\n",
        "        }\n",
        "        printf(\"\\n\");\n",
        "    }\n",
        "\n",
        "    MPI_Finalize();\n",
        "    return 0;\n",
        "}"
      ],
      "metadata": {
        "colab": {
          "base_uri": "https://localhost:8080/"
        },
        "id": "lWzYIhRyrxY8",
        "outputId": "8b95248e-60d7-40b5-a67a-980c7beea4e6"
      },
      "execution_count": 75,
      "outputs": [
        {
          "output_type": "stream",
          "name": "stdout",
          "text": [
            "Writing gather.c\n"
          ]
        }
      ]
    },
    {
      "cell_type": "code",
      "source": [
        "!mpicc gather.c\n",
        "\n",
        "!mpirun --allow-run-as-root --oversubscribe -np 4 ./a.out"
      ],
      "metadata": {
        "colab": {
          "base_uri": "https://localhost:8080/"
        },
        "id": "0YCEJCzQrzmT",
        "outputId": "9e8fd55c-3f2d-4a75-a112-55cc316ca46d"
      },
      "execution_count": 76,
      "outputs": [
        {
          "output_type": "stream",
          "name": "stdout",
          "text": [
            "Root process gathered data: 1 2 3 4 \n"
          ]
        }
      ]
    },
    {
      "cell_type": "code",
      "source": [
        "%%writefile p2p.c\n",
        "\n",
        "#include <mpi.h>\n",
        "#include <stdio.h>\n",
        "\n",
        "int main(int argc, char** argv) {\n",
        "    MPI_Init(&argc, &argv);\n",
        "\n",
        "    int rank;\n",
        "    MPI_Comm_rank(MPI_COMM_WORLD, &rank);\n",
        "\n",
        "    if (rank == 0) {\n",
        "        int data = 42;\n",
        "        MPI_Send(&data, 1, MPI_INT, 1, 0, MPI_COMM_WORLD);\n",
        "        printf(\"Process 0 sent data %d\\n\", data);\n",
        "    } else if (rank == 1) {\n",
        "        int data;\n",
        "        MPI_Recv(&data, 1, MPI_INT, 0, 0, MPI_COMM_WORLD, MPI_STATUS_IGNORE);\n",
        "        printf(\"Process 1 received data %d\\n\", data);\n",
        "    }\n",
        "\n",
        "    MPI_Finalize();\n",
        "    return 0;\n",
        "}"
      ],
      "metadata": {
        "colab": {
          "base_uri": "https://localhost:8080/"
        },
        "id": "zVOc_gbxr3ut",
        "outputId": "afac01e3-35b9-47f6-f6f6-6035aca59ce4"
      },
      "execution_count": 77,
      "outputs": [
        {
          "output_type": "stream",
          "name": "stdout",
          "text": [
            "Writing p2p.c\n"
          ]
        }
      ]
    },
    {
      "cell_type": "code",
      "source": [
        "!mpicc p2p.c\n",
        "!mpirun --allow-run-as-root --oversubscribe -np 4 ./a.out"
      ],
      "metadata": {
        "colab": {
          "base_uri": "https://localhost:8080/"
        },
        "id": "_jQdBhRJr5Yt",
        "outputId": "5382a140-5fe3-4c63-f4fc-24dc5fd5d8e6"
      },
      "execution_count": 78,
      "outputs": [
        {
          "output_type": "stream",
          "name": "stdout",
          "text": [
            "Process 0 sent data 42\n",
            "Process 1 received data 42\n"
          ]
        }
      ]
    },
    {
      "cell_type": "code",
      "source": [
        "%%writefile reduce.c\n",
        "#include <mpi.h>\n",
        "#include <stdio.h>\n",
        "\n",
        "int main(int argc, char** argv) {\n",
        "    MPI_Init(&argc, &argv);\n",
        "\n",
        "    int rank, size;\n",
        "    int send_data, result;\n",
        "\n",
        "    MPI_Comm_rank(MPI_COMM_WORLD, &rank);\n",
        "    MPI_Comm_size(MPI_COMM_WORLD, &size);\n",
        "\n",
        "    send_data = rank + 1; // each process contributes its rank + 1\n",
        "\n",
        "    MPI_Reduce(&send_data, &result, 1, MPI_INT, MPI_SUM, 0, MPI_COMM_WORLD);\n",
        "\n",
        "    if (rank == 0) {\n",
        "        printf(\"Global sum of ranks is %d\\n\", result);\n",
        "    }\n",
        "\n",
        "    MPI_Finalize();\n",
        "    return 0;\n",
        "}"
      ],
      "metadata": {
        "colab": {
          "base_uri": "https://localhost:8080/"
        },
        "id": "uaUJTkmXr85f",
        "outputId": "208b0319-7f11-4005-c0a1-f7f67c8c7777"
      },
      "execution_count": 79,
      "outputs": [
        {
          "output_type": "stream",
          "name": "stdout",
          "text": [
            "Writing reduce.c\n"
          ]
        }
      ]
    },
    {
      "cell_type": "code",
      "source": [
        "!mpicc reduce.c\n",
        "!mpirun --allow-run-as-root --oversubscribe -np 4 ./a.out"
      ],
      "metadata": {
        "colab": {
          "base_uri": "https://localhost:8080/"
        },
        "id": "w3lgVNEIr_KI",
        "outputId": "6a5bd7df-405d-4cb2-d08b-7dfdefaad05e"
      },
      "execution_count": 80,
      "outputs": [
        {
          "output_type": "stream",
          "name": "stdout",
          "text": [
            "Global sum of ranks is 10\n"
          ]
        }
      ]
    },
    {
      "cell_type": "code",
      "source": [
        "%%writefile scatter.c\n",
        "\n",
        "#include <mpi.h>\n",
        "#include <stdio.h>\n",
        "\n",
        "int main(int argc, char** argv) {\n",
        "    MPI_Init(&argc, &argv);\n",
        "\n",
        "    int rank, size;\n",
        "    MPI_Comm_rank(MPI_COMM_WORLD, &rank);\n",
        "    MPI_Comm_size(MPI_COMM_WORLD, &size);\n",
        "\n",
        "    int data[4] = {10, 20, 30, 40}; // root's data\n",
        "    int recv_data;\n",
        "\n",
        "    MPI_Scatter(data, 1, MPI_INT, &recv_data, 1, MPI_INT, 0, MPI_COMM_WORLD);\n",
        "\n",
        "    printf(\"Process %d received data %d\\n\", rank, recv_data);\n",
        "\n",
        "    MPI_Finalize();\n",
        "    return 0;\n",
        "}"
      ],
      "metadata": {
        "colab": {
          "base_uri": "https://localhost:8080/"
        },
        "id": "m0qd41pHsCXK",
        "outputId": "433ee5f3-2dfe-4ba6-f28e-7a63a249b9e8"
      },
      "execution_count": 81,
      "outputs": [
        {
          "output_type": "stream",
          "name": "stdout",
          "text": [
            "Writing scatter.c\n"
          ]
        }
      ]
    },
    {
      "cell_type": "code",
      "source": [
        "!mpicc scatter.c\n",
        "!mpirun --allow-run-as-root --oversubscribe -np 4 ./a.out"
      ],
      "metadata": {
        "colab": {
          "base_uri": "https://localhost:8080/"
        },
        "id": "VJmScNdLsEzy",
        "outputId": "a4a37752-b835-488b-dadd-6ff927336a12"
      },
      "execution_count": 82,
      "outputs": [
        {
          "output_type": "stream",
          "name": "stdout",
          "text": [
            "Process 0 received data 10\n",
            "Process 2 received data 30\n",
            "Process 3 received data 40\n",
            "Process 1 received data 20\n"
          ]
        }
      ]
    },
    {
      "cell_type": "code",
      "source": [
        "%%writefile task1.c\n",
        "#include <mpi.h>\n",
        "#include <stdio.h>\n",
        "\n",
        "int main(int argc, char** argv) {\n",
        "    MPI_Init(&argc, &argv);\n",
        "\n",
        "    int rank;\n",
        "    int data = 0;\n",
        "\n",
        "    MPI_Comm_rank(MPI_COMM_WORLD, &rank);\n",
        "\n",
        "    if (rank == 0) {\n",
        "        data = 100; // root process sets the data\n",
        "    }\n",
        "\n",
        "    MPI_Bcast(&data, 1, MPI_INT, 0, MPI_COMM_WORLD);\n",
        "\n",
        "    printf(\"Process %d received data %d\\n\", rank, data);\n",
        "\n",
        "    MPI_Finalize();\n",
        "    return 0;\n",
        "}"
      ],
      "metadata": {
        "colab": {
          "base_uri": "https://localhost:8080/"
        },
        "id": "TNM6YhKOsIC-",
        "outputId": "ab43c763-4b58-4a13-915c-e1ed511f2448"
      },
      "execution_count": 83,
      "outputs": [
        {
          "output_type": "stream",
          "name": "stdout",
          "text": [
            "Writing task1.c\n"
          ]
        }
      ]
    },
    {
      "cell_type": "code",
      "source": [
        "!mpicc -o task1 task1.c\n",
        "!mpirun --allow-run-as-root --oversubscribe -np 4 ./task1"
      ],
      "metadata": {
        "colab": {
          "base_uri": "https://localhost:8080/"
        },
        "id": "rmcRhexIsJwK",
        "outputId": "44b42004-2bc6-40c0-ca49-490ce29ea87a"
      },
      "execution_count": 84,
      "outputs": [
        {
          "output_type": "stream",
          "name": "stdout",
          "text": [
            "Process 0 received data 100\n",
            "Process 2 received data 100\n",
            "Process 1 received data 100\n",
            "Process 3 received data 100\n"
          ]
        }
      ]
    },
    {
      "cell_type": "code",
      "source": [
        "%%writefile task2.c\n",
        "#include <mpi.h>\n",
        "#include <stdio.h>\n",
        "\n",
        "int main(int argc, char** argv) {\n",
        "    MPI_Init(&argc, &argv);\n",
        "\n",
        "    int rank, size;\n",
        "    MPI_Comm_rank(MPI_COMM_WORLD, &rank);\n",
        "    MPI_Comm_size(MPI_COMM_WORLD, &size);\n",
        "\n",
        "    int send_data[4];\n",
        "    int recv_data;\n",
        "\n",
        "    if (rank == 0) {\n",
        "        // Initialize the array in process 0\n",
        "        for (int i = 0; i < 4; i++) {\n",
        "            send_data[i] = i + 1;\n",
        "            printf(\"%d \", send_data[i]);\n",
        "        }\n",
        "    }\n",
        "\n",
        "    MPI_Scatter(send_data, 1, MPI_INT, &recv_data, 1, MPI_INT, 0, MPI_COMM_WORLD);\n",
        "\n",
        "\n",
        "    // Double the received value\n",
        "    recv_data *= 2;\n",
        "\n",
        "    int gathered_data[4];\n",
        "    MPI_Gather(&recv_data, 1, MPI_INT, gathered_data, 1, MPI_INT, 0, MPI_COMM_WORLD);\n",
        "\n",
        "    if (rank == 0) {\n",
        "        printf(\"\\nModified Array: \");\n",
        "        for (int i = 0; i < size; i++) {\n",
        "            printf(\"%d \", gathered_data[i]);\n",
        "        }\n",
        "        printf(\"\\n\");\n",
        "    }\n",
        "\n",
        "    MPI_Finalize();\n",
        "    return 0;\n",
        "}"
      ],
      "metadata": {
        "colab": {
          "base_uri": "https://localhost:8080/"
        },
        "id": "4USnsCOYsMLw",
        "outputId": "2897bb5e-1c53-45ce-9f3f-d381271f74d6"
      },
      "execution_count": 85,
      "outputs": [
        {
          "output_type": "stream",
          "name": "stdout",
          "text": [
            "Writing task2.c\n"
          ]
        }
      ]
    },
    {
      "cell_type": "code",
      "source": [
        "!mpicc -o task2 task2.c\n",
        "\n",
        "!mpirun --allow-run-as-root --oversubscribe -np 4 ./task2"
      ],
      "metadata": {
        "colab": {
          "base_uri": "https://localhost:8080/"
        },
        "id": "kJ1Jxd19sODQ",
        "outputId": "f1ff9228-6909-4dd9-d600-30c298dee7fa"
      },
      "execution_count": 86,
      "outputs": [
        {
          "output_type": "stream",
          "name": "stdout",
          "text": [
            "1 2 3 4 \n",
            "Modified Array: 2 4 6 8 \n"
          ]
        }
      ]
    },
    {
      "cell_type": "code",
      "source": [
        "%%writefile task3.c\n",
        "#include <mpi.h>\n",
        "#include <stdio.h>\n",
        "\n",
        "int main(int argc, char** argv) {\n",
        "    MPI_Init(&argc, &argv);\n",
        "\n",
        "    int rank, size;\n",
        "    MPI_Comm_rank(MPI_COMM_WORLD, &rank);\n",
        "    MPI_Comm_size(MPI_COMM_WORLD, &size);\n",
        "\n",
        "    int local_value = rank + 1;\n",
        "    int global_sum = 0;\n",
        "\n",
        "    MPI_Reduce(&local_value, &global_sum, 1, MPI_INT, MPI_SUM, 0, MPI_COMM_WORLD);\n",
        "\n",
        "    if (rank == 0) {\n",
        "        printf(\"Global sum is %d\\n\", global_sum);\n",
        "    }\n",
        "\n",
        "    MPI_Finalize();\n",
        "    return 0;\n",
        "}"
      ],
      "metadata": {
        "colab": {
          "base_uri": "https://localhost:8080/"
        },
        "id": "s52ojnJKsQuK",
        "outputId": "0f119167-2e56-4116-b477-38e4b93626ef"
      },
      "execution_count": 87,
      "outputs": [
        {
          "output_type": "stream",
          "name": "stdout",
          "text": [
            "Writing task3.c\n"
          ]
        }
      ]
    },
    {
      "cell_type": "code",
      "source": [
        "!mpicc -o task3 task3.c\n",
        "!mpirun --allow-run-as-root --oversubscribe -np 4 ./task3"
      ],
      "metadata": {
        "colab": {
          "base_uri": "https://localhost:8080/"
        },
        "id": "23Ky9YiPsTYL",
        "outputId": "0368c535-1af7-4007-bb57-77be6e2d5cff"
      },
      "execution_count": 88,
      "outputs": [
        {
          "output_type": "stream",
          "name": "stdout",
          "text": [
            "Global sum is 10\n"
          ]
        }
      ]
    },
    {
      "cell_type": "code",
      "source": [
        "%%writefile quicksort_openmp.c\n",
        "\n",
        "#include <stdio.h>\n",
        "#include <stdlib.h>\n",
        "#include <omp.h>\n",
        "#include <time.h>\n",
        "\n",
        "// Function to swap two elements\n",
        "void swap(int* a, int* b) {\n",
        "    int temp = *a;\n",
        "    *a = *b;\n",
        "    *b = temp;\n",
        "}\n",
        "\n",
        "// Partition function for Quicksort\n",
        "int partition(int* arr, int low, int high) {\n",
        "    // Choose the rightmost element as pivot\n",
        "    int pivot = arr[high];\n",
        "\n",
        "    // Index of smaller element\n",
        "    int i = (low - 1);\n",
        "\n",
        "    // Traverse through all elements\n",
        "    for (int j = low; j <= high - 1; j++) {\n",
        "        // If current element is smaller than or equal to pivot\n",
        "        if (arr[j] <= pivot) {\n",
        "            // Increment index of smaller element\n",
        "            i++;\n",
        "            swap(&arr[i], &arr[j]);\n",
        "        }\n",
        "    }\n",
        "\n",
        "    // Place pivot in correct position\n",
        "    swap(&arr[i + 1], &arr[high]);\n",
        "    return (i + 1);\n",
        "}\n",
        "\n",
        "// Sequential Quicksort implementation\n",
        "void quicksortSequential(int* arr, int low, int high) {\n",
        "    if (low < high) {\n",
        "        // Find partition index\n",
        "        int pi = partition(arr, low, high);\n",
        "\n",
        "        // Recursively sort elements before and after partition\n",
        "        quicksortSequential(arr, low, pi - 1);\n",
        "        quicksortSequential(arr, pi + 1, high);\n",
        "    }\n",
        "}\n",
        "\n",
        "// Parallel Quicksort implementation using OpenMP\n",
        "void quicksortParallel(int* arr, int low, int high, int depth) {\n",
        "    if (low < high) {\n",
        "        // Find partition index\n",
        "        int pi = partition(arr, low, high);\n",
        "\n",
        "        // Check if we should use parallel or sequential sorting\n",
        "        if (depth > 0) {\n",
        "            #pragma omp parallel sections\n",
        "            {\n",
        "                #pragma omp section\n",
        "                {\n",
        "                    quicksortParallel(arr, low, pi - 1, depth - 1);\n",
        "                }\n",
        "\n",
        "                #pragma omp section\n",
        "                {\n",
        "                    quicksortParallel(arr, pi + 1, high, depth - 1);\n",
        "                }\n",
        "            }\n",
        "        }\n",
        "        else {\n",
        "            // Fall back to sequential sorting when depth is reached\n",
        "            quicksortSequential(arr, low, pi - 1);\n",
        "            quicksortSequential(arr, pi + 1, high);\n",
        "        }\n",
        "    }\n",
        "}\n",
        "\n",
        "// Function to print array\n",
        "void printArray(int* arr, int size, const char* message) {\n",
        "    printf(\"%s: \", message);\n",
        "    for (int i = 0; i < size; i++) {\n",
        "        printf(\"%d \", arr[i]);\n",
        "    }\n",
        "    printf(\"\\n\");\n",
        "}\n",
        "\n",
        "// Function to generate random array\n",
        "void generateRandomArray(int* arr, int size) {\n",
        "    srand(time(NULL));\n",
        "    for (int i = 0; i < size; i++) {\n",
        "        arr[i] = rand() % 1000;  // Random numbers between 0 and 999\n",
        "    }\n",
        "}\n",
        "\n",
        "// Function to verify if array is sorted\n",
        "int isSorted(int* arr, int size) {\n",
        "    for (int i = 1; i < size; i++) {\n",
        "        if (arr[i] < arr[i-1]) {\n",
        "            return 0;  // Not sorted\n",
        "        }\n",
        "    }\n",
        "    return 1;  // Sorted\n",
        "}\n",
        "\n",
        "int main() {\n",
        "    // Array size\n",
        "    const int SIZE = 10;\n",
        "\n",
        "    // Allocate memory for arrays\n",
        "    int* arr_sequential = (int*)malloc(SIZE * sizeof(int));\n",
        "    int* arr_parallel = (int*)malloc(SIZE * sizeof(int));\n",
        "\n",
        "    // Generate random arrays\n",
        "    generateRandomArray(arr_sequential, SIZE);\n",
        "\n",
        "    // Print original array\n",
        "    printArray(arr_sequential, SIZE, \"Original Array\");\n",
        "\n",
        "    // Copy array for parallel sorting\n",
        "    for (int i = 0; i < SIZE; i++) {\n",
        "        arr_parallel[i] = arr_sequential[i];\n",
        "    }\n",
        "\n",
        "    // Set number of threads\n",
        "    omp_set_num_threads(4);\n",
        "\n",
        "    // Measure sequential sorting time\n",
        "    printf(\"\\n--- Sequential Sorting ---\\n\");\n",
        "    double start_sequential = omp_get_wtime();\n",
        "    quicksortSequential(arr_sequential, 0, SIZE - 1);\n",
        "    double end_sequential = omp_get_wtime();\n",
        "\n",
        "    // Print sequentially sorted array\n",
        "    printArray(arr_sequential, SIZE, \"Sequential Sorted Array\");\n",
        "\n",
        "    // Check if sequential sort worked\n",
        "    if (!isSorted(arr_sequential, SIZE)) {\n",
        "        printf(\"Sequential sort failed!\\n\");\n",
        "        return 1;\n",
        "    }\n",
        "\n",
        "    // Measure parallel sorting time\n",
        "    printf(\"\\n--- Parallel Sorting ---\\n\");\n",
        "    double start_parallel = omp_get_wtime();\n",
        "    quicksortParallel(arr_parallel, 0, SIZE - 1, 3);  // Depth of 3\n",
        "    double end_parallel = omp_get_wtime();\n",
        "\n",
        "    // Print parallelly sorted array\n",
        "    printArray(arr_parallel, SIZE, \"Parallel Sorted Array\");\n",
        "\n",
        "    // Check if parallel sort worked\n",
        "    if (!isSorted(arr_parallel, SIZE)) {\n",
        "        printf(\"Parallel sort failed!\\n\");\n",
        "        return 1;\n",
        "    }\n",
        "\n",
        "    // Print performance results\n",
        "    printf(\"\\n--- Performance Metrics ---\\n\");\n",
        "    printf(\"Sequential Sort Time: %f seconds\\n\", end_sequential - start_sequential);\n",
        "    printf(\"Parallel Sort Time: %f seconds\\n\", end_parallel - start_parallel);\n",
        "\n",
        "    // Verify both arrays are identical\n",
        "    int is_correct = 1;\n",
        "    for (int i = 0; i < SIZE; i++) {\n",
        "        if (arr_sequential[i] != arr_parallel[i]) {\n",
        "            is_correct = 0;\n",
        "            break;\n",
        "        }\n",
        "    }\n",
        "\n",
        "    printf(\"Sort Correctness: %s\\n\", is_correct ? \"Verified\" : \"Failed\");\n",
        "\n",
        "    // Free allocated memory\n",
        "    free(arr_sequential);\n",
        "    free(arr_parallel);\n",
        "\n",
        "    return 0;\n",
        "}"
      ],
      "metadata": {
        "colab": {
          "base_uri": "https://localhost:8080/"
        },
        "id": "1X3zTE3lsUu_",
        "outputId": "aae7d48e-a67b-4de0-9b0b-20c1fd87b33f"
      },
      "execution_count": 93,
      "outputs": [
        {
          "output_type": "stream",
          "name": "stdout",
          "text": [
            "Overwriting quicksort_openmp.c\n"
          ]
        }
      ]
    },
    {
      "cell_type": "code",
      "source": [
        "# Compile with OpenMP support\n",
        "!gcc -fopenmp quicksort_openmp.c -o quicksort_openmp\n",
        "\n",
        "# Run the executable\n",
        "!./quicksort_openmp"
      ],
      "metadata": {
        "colab": {
          "base_uri": "https://localhost:8080/"
        },
        "id": "2TEvk-7Yswvf",
        "outputId": "db9317ed-151c-494e-f8dd-59c61a223cfe"
      },
      "execution_count": 94,
      "outputs": [
        {
          "output_type": "stream",
          "name": "stdout",
          "text": [
            "Original Array: 227 358 705 567 399 853 307 566 354 348 \n",
            "\n",
            "--- Sequential Sorting ---\n",
            "Sequential Sorted Array: 227 307 348 354 358 399 566 567 705 853 \n",
            "\n",
            "--- Parallel Sorting ---\n",
            "Parallel Sorted Array: 227 307 348 354 358 399 566 567 705 853 \n",
            "\n",
            "--- Performance Metrics ---\n",
            "Sequential Sort Time: 0.000001 seconds\n",
            "Parallel Sort Time: 0.000192 seconds\n",
            "Sort Correctness: Verified\n"
          ]
        }
      ]
    },
    {
      "cell_type": "code",
      "source": [
        "# Write the MPI source code\n",
        "%%writefile prime_mpi.cpp\n",
        "\n",
        "#include <mpi.h>\n",
        "#include <stdio.h>\n",
        "#include <stdlib.h>\n",
        "#include <math.h>\n",
        "\n",
        "// Function to check if a number is prime\n",
        "int isPrime(int num) {\n",
        "    if (num <= 1) return 0;\n",
        "    if (num <= 3) return 1;\n",
        "\n",
        "    // Check for divisibility\n",
        "    for (int i = 2; i <= sqrt(num); i++) {\n",
        "        if (num % i == 0) return 0;\n",
        "    }\n",
        "    return 1;\n",
        "}\n",
        "\n",
        "int main(int argc, char** argv) {\n",
        "    // Initialize MPI environment\n",
        "    MPI_Init(&argc, &argv);\n",
        "\n",
        "    // Get total number of processes and current process rank\n",
        "    int total_processes, rank;\n",
        "    MPI_Comm_size(MPI_COMM_WORLD, &total_processes);\n",
        "    MPI_Comm_rank(MPI_COMM_WORLD, &rank);\n",
        "\n",
        "    // Define range of numbers to check\n",
        "    int start_range = 1;\n",
        "    int end_range = 10;\n",
        "\n",
        "    // Calculate range for each process\n",
        "    int range_per_process = (end_range - start_range + 1) / total_processes;\n",
        "    int remainder = (end_range - start_range + 1) % total_processes;\n",
        "\n",
        "    // Allocate arrays for scatter and gather\n",
        "    int* send_counts = NULL;\n",
        "    int* displacements = NULL;\n",
        "    int* local_numbers = NULL;\n",
        "    int* local_primes = NULL;\n",
        "    int* global_primes = NULL;\n",
        "\n",
        "    if (rank == 0) {\n",
        "        // Allocate memory for send counts and displacements\n",
        "        send_counts = (int*)malloc(total_processes * sizeof(int));\n",
        "        displacements = (int*)malloc(total_processes * sizeof(int));\n",
        "\n",
        "        // Calculate send counts and displacements\n",
        "        for (int i = 0; i < total_processes; i++) {\n",
        "            send_counts[i] = range_per_process + (i < remainder ? 1 : 0);\n",
        "\n",
        "            // Calculate displacement\n",
        "            displacements[i] = (i == 0) ? start_range :\n",
        "                (displacements[i-1] + send_counts[i-1]);\n",
        "        }\n",
        "\n",
        "        // Allocate global numbers array\n",
        "        local_numbers = (int*)malloc(end_range * sizeof(int));\n",
        "        for (int i = 0; i < end_range; i++) {\n",
        "            local_numbers[i] = start_range + i;\n",
        "        }\n",
        "    }\n",
        "\n",
        "    // Broadcast send counts to all processes\n",
        "    int local_count;\n",
        "    MPI_Scatter(send_counts, 1, MPI_INT, &local_count, 1, MPI_INT, 0, MPI_COMM_WORLD);\n",
        "\n",
        "    // Allocate local numbers array for each process\n",
        "    int* process_numbers = (int*)malloc(local_count * sizeof(int));\n",
        "    int* process_primes = (int*)malloc(local_count * sizeof(int));\n",
        "\n",
        "    // Scatter numbers to all processes\n",
        "    MPI_Scatterv(local_numbers, send_counts, displacements, MPI_INT,\n",
        "                 process_numbers, local_count, MPI_INT, 0, MPI_COMM_WORLD);\n",
        "\n",
        "    // Find local primes\n",
        "    int local_prime_count = 0;\n",
        "    for (int i = 0; i < local_count; i++) {\n",
        "        if (isPrime(process_numbers[i])) {\n",
        "            process_primes[local_prime_count++] = process_numbers[i];\n",
        "        }\n",
        "    }\n",
        "\n",
        "    // Gather prime counts from all processes\n",
        "    int* prime_counts = NULL;\n",
        "    if (rank == 0) {\n",
        "        prime_counts = (int*)malloc(total_processes * sizeof(int));\n",
        "    }\n",
        "\n",
        "    // Gather local prime counts\n",
        "    MPI_Gather(&local_prime_count, 1, MPI_INT,\n",
        "               prime_counts, 1, MPI_INT, 0, MPI_COMM_WORLD);\n",
        "\n",
        "    // Gather prime numbers\n",
        "    int total_prime_count = 0;\n",
        "    int* recv_displacements = NULL;\n",
        "    int* recv_counts = NULL;\n",
        "\n",
        "    if (rank == 0) {\n",
        "        // Calculate total prime count and displacements\n",
        "        recv_displacements = (int*)malloc(total_processes * sizeof(int));\n",
        "        recv_counts = (int*)malloc(total_processes * sizeof(int));\n",
        "\n",
        "        total_prime_count = 0;\n",
        "        for (int i = 0; i < total_processes; i++) {\n",
        "            recv_counts[i] = prime_counts[i];\n",
        "            recv_displacements[i] = (i == 0) ? 0 : (recv_displacements[i-1] + recv_counts[i-1]);\n",
        "            total_prime_count += prime_counts[i];\n",
        "        }\n",
        "\n",
        "        // Allocate global primes array\n",
        "        global_primes = (int*)malloc(total_prime_count * sizeof(int));\n",
        "    }\n",
        "\n",
        "    // Gatherv prime numbers\n",
        "    MPI_Gatherv(process_primes, local_prime_count, MPI_INT,\n",
        "                global_primes, recv_counts, recv_displacements,\n",
        "                MPI_INT, 0, MPI_COMM_WORLD);\n",
        "\n",
        "    // Print results on root process\n",
        "    if (rank == 0) {\n",
        "        printf(\"Total Prime Numbers Found: %d\\n\", total_prime_count);\n",
        "        printf(\"Prime Numbers: \");\n",
        "        for (int i = 0; i < total_prime_count; i++) {\n",
        "            printf(\"%d \", global_primes[i]);\n",
        "        }\n",
        "        printf(\"\\n\");\n",
        "\n",
        "        // Free allocated memory\n",
        "        free(send_counts);\n",
        "        free(displacements);\n",
        "        free(local_numbers);\n",
        "        free(prime_counts);\n",
        "        free(recv_displacements);\n",
        "        free(recv_counts);\n",
        "        free(global_primes);\n",
        "    }\n",
        "\n",
        "    // Free local process memory\n",
        "    free(process_numbers);\n",
        "    free(process_primes);\n",
        "\n",
        "    // Finalize MPI environment\n",
        "    MPI_Finalize();\n",
        "\n",
        "    return 0;\n",
        "}\n"
      ],
      "metadata": {
        "colab": {
          "base_uri": "https://localhost:8080/"
        },
        "id": "PPVv1JlBs21H",
        "outputId": "b3ec45aa-ae58-4135-a9c1-ff73c61654d9"
      },
      "execution_count": 97,
      "outputs": [
        {
          "output_type": "stream",
          "name": "stdout",
          "text": [
            "Overwriting prime_mpi.cpp\n"
          ]
        }
      ]
    },
    {
      "cell_type": "code",
      "source": [
        "\n",
        "# Compile the MPI program\n",
        "!mpicxx prime_mpi.cpp -o prime_mpi\n",
        "\n",
        "# Run the MPI program\n",
        "!mpirun --allow-run-as-root --oversubscribe -np 4 ./prime_mpi"
      ],
      "metadata": {
        "colab": {
          "base_uri": "https://localhost:8080/"
        },
        "id": "wOCbrFXXttd2",
        "outputId": "00344f34-4804-4f8a-ed95-f789ca3b025a"
      },
      "execution_count": 98,
      "outputs": [
        {
          "output_type": "stream",
          "name": "stdout",
          "text": [
            "Total Prime Numbers Found: 4\n",
            "Prime Numbers: 2 3 5 7 \n"
          ]
        }
      ]
    },
    {
      "cell_type": "code",
      "source": [],
      "metadata": {
        "id": "XtXLQ-gktxMm"
      },
      "execution_count": null,
      "outputs": []
    }
  ]
}